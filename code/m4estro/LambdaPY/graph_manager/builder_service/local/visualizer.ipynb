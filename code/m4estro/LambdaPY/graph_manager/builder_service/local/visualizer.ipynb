{
 "cells": [
  {
   "cell_type": "code",
   "execution_count": 1,
   "id": "789fb4ac",
   "metadata": {},
   "outputs": [],
   "source": [
    "import igraph as ig\n",
    "import json\n",
    "import matplotlib.pyplot as plt\n",
    "from random import randint"
   ]
  },
  {
   "cell_type": "code",
   "execution_count": 2,
   "id": "eb9e97f7",
   "metadata": {},
   "outputs": [
    {
     "data": {
      "text/plain": [
       "['C:\\\\Users\\\\volpato\\\\AppData\\\\Local\\\\Programs\\\\Python\\\\Python313\\\\python313.zip',\n",
       " 'C:\\\\Users\\\\volpato\\\\AppData\\\\Local\\\\Programs\\\\Python\\\\Python313\\\\DLLs',\n",
       " 'C:\\\\Users\\\\volpato\\\\AppData\\\\Local\\\\Programs\\\\Python\\\\Python313\\\\Lib',\n",
       " 'C:\\\\Users\\\\volpato\\\\AppData\\\\Local\\\\Programs\\\\Python\\\\Python313',\n",
       " 'c:\\\\P\\\\backend\\\\.venv',\n",
       " '',\n",
       " 'c:\\\\P\\\\backend\\\\.venv\\\\Lib\\\\site-packages',\n",
       " 'c:\\\\P\\\\backend\\\\.venv\\\\Lib\\\\site-packages\\\\win32',\n",
       " 'c:\\\\P\\\\backend\\\\.venv\\\\Lib\\\\site-packages\\\\win32\\\\lib',\n",
       " 'c:\\\\P\\\\backend\\\\.venv\\\\Lib\\\\site-packages\\\\Pythonwin']"
      ]
     },
     "execution_count": 2,
     "metadata": {},
     "output_type": "execute_result"
    }
   ],
   "source": [
    "import os\n",
    "import sys\n",
    "\n",
    "sys.path"
   ]
  },
  {
   "cell_type": "code",
   "execution_count": 3,
   "id": "983117a7",
   "metadata": {},
   "outputs": [
    {
     "data": {
      "text/plain": [
       "['C:\\\\Users\\\\volpato\\\\AppData\\\\Local\\\\Programs\\\\Python\\\\Python313\\\\python313.zip',\n",
       " 'C:\\\\Users\\\\volpato\\\\AppData\\\\Local\\\\Programs\\\\Python\\\\Python313\\\\DLLs',\n",
       " 'C:\\\\Users\\\\volpato\\\\AppData\\\\Local\\\\Programs\\\\Python\\\\Python313\\\\Lib',\n",
       " 'C:\\\\Users\\\\volpato\\\\AppData\\\\Local\\\\Programs\\\\Python\\\\Python313',\n",
       " 'c:\\\\P\\\\backend\\\\.venv',\n",
       " '',\n",
       " 'c:\\\\P\\\\backend\\\\.venv\\\\Lib\\\\site-packages',\n",
       " 'c:\\\\P\\\\backend\\\\.venv\\\\Lib\\\\site-packages\\\\win32',\n",
       " 'c:\\\\P\\\\backend\\\\.venv\\\\Lib\\\\site-packages\\\\win32\\\\lib',\n",
       " 'c:\\\\P\\\\backend\\\\.venv\\\\Lib\\\\site-packages\\\\Pythonwin',\n",
       " 'C:\\\\P\\\\backend\\\\LambdaPY\\\\realtime_lcdi',\n",
       " 'C:\\\\P\\\\backend\\\\LambdaPY\\\\graph_layer\\\\python',\n",
       " 'C:\\\\P\\\\backend\\\\LambdaPY\\\\platform_comm_layer\\\\python']"
      ]
     },
     "execution_count": 3,
     "metadata": {},
     "output_type": "execute_result"
    }
   ],
   "source": [
    "def add_relative_path(relative_path):\n",
    "    path = os.path.abspath(os.path.join(relative_path))\n",
    "    if path not in sys.path:\n",
    "        sys.path.append(path)\n",
    "\n",
    "def add_absolute_path(absolute_path):\n",
    "    if absolute_path not in sys.path:\n",
    "        sys.path.append(absolute_path)\n",
    "\n",
    "add_absolute_path(\"C:\\\\P\\\\backend\\\\LambdaPY\\\\realtime_lcdi\")\n",
    "add_absolute_path(\"C:\\\\P\\\\backend\\\\LambdaPY\\\\graph_layer\\\\python\")\n",
    "add_absolute_path(\"C:\\\\P\\\\backend\\\\LambdaPY\\\\platform_comm_layer\\\\python\")\n",
    "\n",
    "sys.path"
   ]
  },
  {
   "cell_type": "code",
   "execution_count": 4,
   "id": "d3210696",
   "metadata": {},
   "outputs": [],
   "source": [
    "SCGRAPH_PATH = \"./sc_graph.json\""
   ]
  },
  {
   "cell_type": "code",
   "execution_count": 5,
   "id": "7d7f0701",
   "metadata": {},
   "outputs": [
    {
     "data": {
      "text/plain": [
       "'IGRAPH DN-T 66 82 -- \\n+ attr: avg_ori (v), company_id (v), company_name (v), latitude (v), location (v), longitude (v), manufacturer_supplier_id (v), n_orders (v), n_orders_by_carrier (v), n_rejections (v), name (v), orders (v), receiver_distance (v), site_id (v), type (v), v_id (v), avg_oti (e), avg_tmi (e), avg_wmi (e), distance (e), n_orders (e), n_orders_by_carrier (e), orders (e), source (e), target (e)'"
      ]
     },
     "execution_count": 5,
     "metadata": {},
     "output_type": "execute_result"
    }
   ],
   "source": [
    "with open(SCGRAPH_PATH, \"r\") as f:\n",
    "    g_data = json.load(f)\n",
    "\n",
    "g = ig.Graph.DictList(g_data[0], g_data[1], directed=True, vertex_name_attr='name')\n",
    "g.summary()"
   ]
  },
  {
   "cell_type": "code",
   "execution_count": 6,
   "id": "58bd60b9",
   "metadata": {},
   "outputs": [
    {
     "name": "stdout",
     "output_type": "stream",
     "text": [
      "v_id: <class 'int'> = 61\n",
      "name: <class 'str'> = 7\n",
      "type: <class 'str'> = SUPPLIER_SITE\n",
      "location: <class 'str'> = SHENZHEN, GUANGDONG, CN\n",
      "receiver_distance: <class 'float'> = 9280.147752206572\n",
      "latitude: <class 'float'> = 22.54554\n",
      "longitude: <class 'float'> = 114.0683\n",
      "site_id: <class 'int'> = 7\n",
      "company_id: <class 'int'> = 4\n",
      "company_name: <class 'str'> = AUTO SUPPLY\n",
      "manufacturer_supplier_id: <class 'int'> = 4\n",
      "n_rejections: <class 'int'> = 0\n",
      "n_orders: <class 'int'> = 1\n",
      "avg_ori: <class 'float'> = 0.0\n",
      "n_orders_by_carrier: <class 'dict'> = {'DHL': 1}\n",
      "orders: <class 'list'> = [{'order_id': 43, 'manufacturer_order_id': 7074, 'tracking_number': '2522622410', 'carrier_name': 'DHL'}]\n"
     ]
    }
   ],
   "source": [
    "sites = g.vs.select(type=\"SUPPLIER_SITE\")\n",
    "v_site = sites[randint(0, len(sites) - 1)]\n",
    "for attr in v_site.attributes():\n",
    "    print(f\"{attr}: {type(v_site[attr])} = {v_site[attr]}\")"
   ]
  },
  {
   "cell_type": "code",
   "execution_count": 23,
   "id": "9aaec595",
   "metadata": {},
   "outputs": [
    {
     "data": {
      "text/plain": [
       "44"
      ]
     },
     "execution_count": 23,
     "metadata": {},
     "output_type": "execute_result"
    }
   ],
   "source": [
    "len([v for v in g.vs if v[\"type\"] == \"INTERMEDIATE\"])"
   ]
  },
  {
   "cell_type": "code",
   "execution_count": 38,
   "id": "83ea60af",
   "metadata": {},
   "outputs": [
    {
     "data": {
      "text/plain": [
       "3"
      ]
     },
     "execution_count": 38,
     "metadata": {},
     "output_type": "execute_result"
    }
   ],
   "source": [
    "sum([v.degree(mode=\"in\") for v in g.vs if v[\"type\"] == \"MANUFACTURER\"])"
   ]
  },
  {
   "cell_type": "code",
   "execution_count": 7,
   "id": "69bd3720",
   "metadata": {},
   "outputs": [
    {
     "name": "stdout",
     "output_type": "stream",
     "text": [
      "v_id: <class 'int'> = 12\n",
      "name: <class 'str'> = FORT WORTH, TEXAS, US\n",
      "type: <class 'str'> = INTERMEDIATE\n",
      "location: <class 'str'> = FORT WORTH, TEXAS, US\n",
      "receiver_distance: <class 'float'> = 8649.623278450543\n",
      "latitude: <class 'float'> = 32.72541\n",
      "longitude: <class 'float'> = -97.32085\n",
      "site_id: <class 'NoneType'> = None\n",
      "company_id: <class 'NoneType'> = None\n",
      "company_name: <class 'NoneType'> = None\n",
      "manufacturer_supplier_id: <class 'NoneType'> = None\n",
      "n_rejections: <class 'NoneType'> = None\n",
      "n_orders: <class 'int'> = 2\n",
      "avg_ori: <class 'float'> = 2.7416666666666663\n",
      "n_orders_by_carrier: <class 'dict'> = {'FedEx': 2}\n",
      "orders: <class 'list'> = [{'order_id': 5, 'manufacturer_order_id': 6046, 'tracking_number': '437446419489', 'carrier_name': 'FedEx'}, {'order_id': 16, 'manufacturer_order_id': 6143, 'tracking_number': '439295386515', 'carrier_name': 'FedEx'}, {'order_id': 16, 'manufacturer_order_id': 6143, 'tracking_number': '439295386515', 'carrier_name': 'FedEx'}, {'order_id': 5, 'manufacturer_order_id': 6046, 'tracking_number': '437446419489', 'carrier_name': 'FedEx'}]\n"
     ]
    }
   ],
   "source": [
    "intermediates = g.vs.select(type=\"INTERMEDIATE\")\n",
    "v_intermediate = intermediates[randint(0, len(intermediates) - 1)]\n",
    "for attr in v_intermediate.attributes():\n",
    "    print(f\"{attr}: {type(v_intermediate[attr])} = {v_intermediate[attr]}\")"
   ]
  },
  {
   "cell_type": "code",
   "execution_count": 8,
   "id": "df7b712f",
   "metadata": {},
   "outputs": [
    {
     "name": "stdout",
     "output_type": "stream",
     "text": [
      "v_id: <class 'int'> = 6\n",
      "name: <class 'str'> = FAE\n",
      "type: <class 'str'> = MANUFACTURER\n",
      "location: <class 'str'> = GAZZANIGA, LOMBARDY, IT\n",
      "receiver_distance: <class 'float'> = 0.0\n",
      "latitude: <class 'float'> = 45.79339\n",
      "longitude: <class 'float'> = 9.82976\n",
      "site_id: <class 'NoneType'> = None\n",
      "company_id: <class 'int'> = 1\n",
      "company_name: <class 'str'> = FAE\n",
      "manufacturer_supplier_id: <class 'NoneType'> = None\n",
      "n_rejections: <class 'NoneType'> = None\n",
      "n_orders: <class 'int'> = 98\n",
      "avg_ori: <class 'float'> = 0.0\n",
      "n_orders_by_carrier: <class 'dict'> = {'UPS': 69, 'DHL Express': 4, 'DHL': 12, 'FedEx': 13}\n",
      "orders: <class 'list'> = [{'order_id': 84, 'manufacturer_order_id': 7815, 'tracking_number': '1ZR465910413354648', 'carrier_name': 'UPS'}, {'order_id': 52, 'manufacturer_order_id': 7325, 'tracking_number': '1ZR465910413315449', 'carrier_name': 'UPS'}, {'order_id': 61, 'manufacturer_order_id': 7467, 'tracking_number': '1ZR465910413323627', 'carrier_name': 'UPS'}, {'order_id': 70, 'manufacturer_order_id': 7633, 'tracking_number': '1ZR465910413339674', 'carrier_name': 'UPS'}, {'order_id': 79, 'manufacturer_order_id': 7767, 'tracking_number': '1ZR465910413349136', 'carrier_name': 'UPS'}, {'order_id': 34, 'manufacturer_order_id': 6460, 'tracking_number': '741988665820', 'carrier_name': 'FedEx'}, {'order_id': 29, 'manufacturer_order_id': 6411, 'tracking_number': '1ZR465910413257860', 'carrier_name': 'UPS'}, {'order_id': 38, 'manufacturer_order_id': 6659, 'tracking_number': '1ZR465910413273066', 'carrier_name': 'UPS'}, {'order_id': 47, 'manufacturer_order_id': 7230, 'tracking_number': '1ZR465910413314440', 'carrier_name': 'UPS'}, {'order_id': 56, 'manufacturer_order_id': 7370, 'tracking_number': '1ZR465910413320433', 'carrier_name': 'UPS'}, {'order_id': 65, 'manufacturer_order_id': 7542, 'tracking_number': '1ZR465910413331172', 'carrier_name': 'UPS'}, {'order_id': 42, 'manufacturer_order_id': 7003, 'tracking_number': '1ZR465910413297406', 'carrier_name': 'UPS'}, {'order_id': 51, 'manufacturer_order_id': 7302, 'tracking_number': '1ZR465910413314315', 'carrier_name': 'UPS'}, {'order_id': 60, 'manufacturer_order_id': 7429, 'tracking_number': '1ZR465910413322468', 'carrier_name': 'UPS'}, {'order_id': 10, 'manufacturer_order_id': 6099, 'tracking_number': '1Z60699Y0400795789', 'carrier_name': 'UPS'}, {'order_id': 37, 'manufacturer_order_id': 6618, 'tracking_number': '1ZR465910413272021', 'carrier_name': 'UPS'}, {'order_id': 46, 'manufacturer_order_id': 7185, 'tracking_number': '1ZR465910413310560', 'carrier_name': 'UPS'}, {'order_id': 41, 'manufacturer_order_id': 7003, 'tracking_number': '1ZR465910413294892', 'carrier_name': 'UPS'}, {'order_id': 5, 'manufacturer_order_id': 6046, 'tracking_number': '437446419489', 'carrier_name': 'FedEx'}, {'order_id': 9, 'manufacturer_order_id': 6097, 'tracking_number': '1ZR465910413225902', 'carrier_name': 'UPS'}, {'order_id': 36, 'manufacturer_order_id': 6601, 'tracking_number': '1029182744', 'carrier_name': 'DHL Express'}, {'order_id': 4, 'manufacturer_order_id': 6045, 'tracking_number': '1ZR465910413219320', 'carrier_name': 'UPS'}, {'order_id': 13, 'manufacturer_order_id': 6131, 'tracking_number': '1867024880', 'carrier_name': 'DHL'}, {'order_id': 40, 'manufacturer_order_id': 6781, 'tracking_number': '8709479516', 'carrier_name': 'DHL'}, {'order_id': 93, 'manufacturer_order_id': 7942, 'tracking_number': '1ZR465910413361729', 'carrier_name': 'UPS'}, {'order_id': 102, 'manufacturer_order_id': 8134, 'tracking_number': '1ZR465910413370335', 'carrier_name': 'UPS'}, {'order_id': 35, 'manufacturer_order_id': 6475, 'tracking_number': '1228893735', 'carrier_name': 'DHL Express'}, {'order_id': 88, 'manufacturer_order_id': 7865, 'tracking_number': '1ZR465910413355567', 'carrier_name': 'UPS'}, {'order_id': 21, 'manufacturer_order_id': 6201, 'tracking_number': '2928052713', 'carrier_name': 'DHL Express'}, {'order_id': 97, 'manufacturer_order_id': 8053, 'tracking_number': '1ZR465910413366895', 'carrier_name': 'UPS'}, {'order_id': 106, 'manufacturer_order_id': 8224, 'tracking_number': '1ZR465910413374788', 'carrier_name': 'UPS'}, {'order_id': 74, 'manufacturer_order_id': 7690, 'tracking_number': '1ZR465910413342786', 'carrier_name': 'UPS'}, {'order_id': 83, 'manufacturer_order_id': 7812, 'tracking_number': '1ZR465910413352364', 'carrier_name': 'UPS'}, {'order_id': 92, 'manufacturer_order_id': 7933, 'tracking_number': '1ZR465910413361765', 'carrier_name': 'UPS'}, {'order_id': 101, 'manufacturer_order_id': 8134, 'tracking_number': '1ZR465910413371325', 'carrier_name': 'UPS'}, {'order_id': 69, 'manufacturer_order_id': 7617, 'tracking_number': '1ZR465910413336702', 'carrier_name': 'UPS'}, {'order_id': 78, 'manufacturer_order_id': 7739, 'tracking_number': '1ZR465910413346719', 'carrier_name': 'UPS'}, {'order_id': 11, 'manufacturer_order_id': 6118, 'tracking_number': '4792756275', 'carrier_name': 'DHL'}, {'order_id': 96, 'manufacturer_order_id': 8008, 'tracking_number': '1ZR465910413364539', 'carrier_name': 'UPS'}, {'order_id': 105, 'manufacturer_order_id': 8197, 'tracking_number': '1ZR465910413373841', 'carrier_name': 'UPS'}, {'order_id': 55, 'manufacturer_order_id': 7370, 'tracking_number': '1ZR465910413320031', 'carrier_name': 'UPS'}, {'order_id': 64, 'manufacturer_order_id': 7515, 'tracking_number': '1ZR465910413328711', 'carrier_name': 'UPS'}, {'order_id': 91, 'manufacturer_order_id': 7907, 'tracking_number': '1ZR465910413357921', 'carrier_name': 'UPS'}, {'order_id': 50, 'manufacturer_order_id': 7292, 'tracking_number': '1ZR465910413314324', 'carrier_name': 'UPS'}, {'order_id': 59, 'manufacturer_order_id': 7407, 'tracking_number': '1ZR465910413320004', 'carrier_name': 'UPS'}, {'order_id': 68, 'manufacturer_order_id': 7606, 'tracking_number': '1ZR465910413339987', 'carrier_name': 'UPS'}, {'order_id': 77, 'manufacturer_order_id': 7708, 'tracking_number': '1ZR465910413347665', 'carrier_name': 'UPS'}, {'order_id': 45, 'manufacturer_order_id': 7146, 'tracking_number': '1ZR465910413305889', 'carrier_name': 'UPS'}, {'order_id': 54, 'manufacturer_order_id': 7357, 'tracking_number': '1ZR465910413316617', 'carrier_name': 'UPS'}, {'order_id': 63, 'manufacturer_order_id': 7490, 'tracking_number': '1ZR465910413327687', 'carrier_name': 'UPS'}, {'order_id': 72, 'manufacturer_order_id': 7657, 'tracking_number': '1ZR465910413340288', 'carrier_name': 'UPS'}, {'order_id': 27, 'manufacturer_order_id': 6306, 'tracking_number': '772213033705', 'carrier_name': 'FedEx'}, {'order_id': 31, 'manufacturer_order_id': 6433, 'tracking_number': '1ZR465910413257806', 'carrier_name': 'UPS'}, {'order_id': 49, 'manufacturer_order_id': 7277, 'tracking_number': '1ZR465910413315476', 'carrier_name': 'UPS'}, {'order_id': 22, 'manufacturer_order_id': 6228, 'tracking_number': '441723518670', 'carrier_name': 'FedEx'}, {'order_id': 44, 'manufacturer_order_id': 7120, 'tracking_number': '1ZR465910413315458', 'carrier_name': 'UPS'}, {'order_id': 8, 'manufacturer_order_id': 6087, 'tracking_number': '439256294454', 'carrier_name': 'FedEx'}, {'order_id': 17, 'manufacturer_order_id': 6160, 'tracking_number': '771855261637', 'carrier_name': 'FedEx'}, {'order_id': 26, 'manufacturer_order_id': 6296, 'tracking_number': '432323076044', 'carrier_name': 'FedEx'}, {'order_id': 3, 'manufacturer_order_id': 6037, 'tracking_number': '1ZR465910413218509', 'carrier_name': 'UPS'}, {'order_id': 30, 'manufacturer_order_id': 6411, 'tracking_number': '1ZR465910413259242', 'carrier_name': 'UPS'}, {'order_id': 39, 'manufacturer_order_id': 6661, 'tracking_number': '4646146046', 'carrier_name': 'DHL'}, {'order_id': 12, 'manufacturer_order_id': 6121, 'tracking_number': '439256767958', 'carrier_name': 'FedEx'}, {'order_id': 7, 'manufacturer_order_id': 6061, 'tracking_number': '1ZR465910413222692', 'carrier_name': 'UPS'}, {'order_id': 25, 'manufacturer_order_id': 6287, 'tracking_number': '1Z60699Y0401575087', 'carrier_name': 'UPS'}, {'order_id': 43, 'manufacturer_order_id': 7074, 'tracking_number': '2522622410', 'carrier_name': 'DHL'}, {'order_id': 16, 'manufacturer_order_id': 6143, 'tracking_number': '439295386515', 'carrier_name': 'FedEx'}, {'order_id': 2, 'manufacturer_order_id': 6005, 'tracking_number': '1Z60699Y0400391867', 'carrier_name': 'UPS'}, {'order_id': 20, 'manufacturer_order_id': 6194, 'tracking_number': '1Z60699Y0401145407', 'carrier_name': 'UPS'}, {'order_id': 87, 'manufacturer_order_id': 7858, 'tracking_number': '882288405936', 'carrier_name': 'FedEx'}, {'order_id': 6, 'manufacturer_order_id': 6047, 'tracking_number': '1Z60699Y0400528246', 'carrier_name': 'UPS'}, {'order_id': 15, 'manufacturer_order_id': 6139, 'tracking_number': '3496884705', 'carrier_name': 'DHL'}, {'order_id': 24, 'manufacturer_order_id': 6258, 'tracking_number': '7721189711', 'carrier_name': 'DHL'}, {'order_id': 100, 'manufacturer_order_id': 8108, 'tracking_number': '1ZR465910413368928', 'carrier_name': 'UPS'}, {'order_id': 33, 'manufacturer_order_id': 6443, 'tracking_number': '8940120210', 'carrier_name': 'DHL'}, {'order_id': 82, 'manufacturer_order_id': 7809, 'tracking_number': '882426638390', 'carrier_name': 'FedEx'}, {'order_id': 1, 'manufacturer_order_id': 6004, 'tracking_number': '1656325344', 'carrier_name': 'DHL Express'}, {'order_id': 19, 'manufacturer_order_id': 6183, 'tracking_number': '6193327630', 'carrier_name': 'DHL'}, {'order_id': 95, 'manufacturer_order_id': 8002, 'tracking_number': '1ZR465910413363469', 'carrier_name': 'UPS'}, {'order_id': 28, 'manufacturer_order_id': 6328, 'tracking_number': '5793924850', 'carrier_name': 'DHL'}, {'order_id': 104, 'manufacturer_order_id': 8194, 'tracking_number': '1ZR465910413373832', 'carrier_name': 'UPS'}, {'order_id': 86, 'manufacturer_order_id': 7836, 'tracking_number': '882411492285', 'carrier_name': 'FedEx'}, {'order_id': 14, 'manufacturer_order_id': 6135, 'tracking_number': '8641336944', 'carrier_name': 'DHL'}, {'order_id': 90, 'manufacturer_order_id': 7882, 'tracking_number': '1ZR465910413356431', 'carrier_name': 'UPS'}, {'order_id': 99, 'manufacturer_order_id': 8066, 'tracking_number': '1ZR465910413369454', 'carrier_name': 'UPS'}, {'order_id': 81, 'manufacturer_order_id': 7798, 'tracking_number': '882190737801', 'carrier_name': 'FedEx'}, {'order_id': 67, 'manufacturer_order_id': 7593, 'tracking_number': '1ZR465910413333429', 'carrier_name': 'UPS'}, {'order_id': 76, 'manufacturer_order_id': 7698, 'tracking_number': '1ZR465910413345596', 'carrier_name': 'UPS'}, {'order_id': 85, 'manufacturer_order_id': 7833, 'tracking_number': '1ZR465910413354639', 'carrier_name': 'UPS'}, {'order_id': 18, 'manufacturer_order_id': 6176, 'tracking_number': '3708691556', 'carrier_name': 'DHL'}, {'order_id': 94, 'manufacturer_order_id': 7950, 'tracking_number': '1ZR465910413361710', 'carrier_name': 'UPS'}, {'order_id': 103, 'manufacturer_order_id': 8157, 'tracking_number': '1ZR465910413372002', 'carrier_name': 'UPS'}, {'order_id': 62, 'manufacturer_order_id': 7480, 'tracking_number': '1ZR465910413326071', 'carrier_name': 'UPS'}, {'order_id': 80, 'manufacturer_order_id': 7796, 'tracking_number': '1ZR465910413351249', 'carrier_name': 'UPS'}, {'order_id': 89, 'manufacturer_order_id': 7865, 'tracking_number': '1ZR465910413369187', 'carrier_name': 'UPS'}, {'order_id': 48, 'manufacturer_order_id': 7233, 'tracking_number': '1ZR465910413313790', 'carrier_name': 'UPS'}, {'order_id': 57, 'manufacturer_order_id': 7391, 'tracking_number': '1ZR465910413318580', 'carrier_name': 'UPS'}, {'order_id': 66, 'manufacturer_order_id': 7577, 'tracking_number': '1ZR465910413332626', 'carrier_name': 'UPS'}]\n"
     ]
    }
   ],
   "source": [
    "v_manufacturer = g.vs.select(type=\"MANUFACTURER\")[0]\n",
    "for attr in v_manufacturer.attributes():\n",
    "    print(f\"{attr}: {type(v_manufacturer[attr])} = {v_manufacturer[attr]}\")"
   ]
  },
  {
   "cell_type": "code",
   "execution_count": 9,
   "id": "b9292c9a",
   "metadata": {},
   "outputs": [
    {
     "name": "stdout",
     "output_type": "stream",
     "text": [
      "Source: 6 - SUPPLIER_SITE (v_id: 16)\n",
      "Destination: PEABODY, MASSACHUSETTS, US -INTERMEDIATE (v_id: 60)\n",
      "distance: <class 'float'> = 0.0\n",
      "avg_oti: <class 'float'> = 3.227777777777778\n",
      "avg_tmi: <class 'float'> = 0.0\n",
      "avg_wmi: <class 'float'> = 0.0\n",
      "n_orders_by_carrier: <class 'dict'> = {'FedEx': 3}\n",
      "orders: <class 'list'> = [{'order_id': 27, 'manufacturer_order_id': 6306, 'tracking_number': '772213033705', 'carrier_name': 'FedEx'}, {'order_id': 86, 'manufacturer_order_id': 7836, 'tracking_number': '882411492285', 'carrier_name': 'FedEx'}, {'order_id': 81, 'manufacturer_order_id': 7798, 'tracking_number': '882190737801', 'carrier_name': 'FedEx'}]\n",
      "n_orders: <class 'int'> = 3\n",
      "source: <class 'str'> = 6\n",
      "target: <class 'str'> = PEABODY, MASSACHUSETTS, US\n"
     ]
    }
   ],
   "source": [
    "e = g.es[randint(0, len(g.es) - 1)]\n",
    "source = g.vs[e.source]\n",
    "dest = g.vs[e.target]\n",
    "print(f\"Source: {source['name']} - {source['type']} (v_id: {source['v_id']})\")\n",
    "print(f\"Destination: {dest['name']} -{dest['type']} (v_id: {dest['v_id']})\")\n",
    "for attr in e.attributes():\n",
    "    print(f\"{attr}: {type(e[attr])} = {e[attr]}\")"
   ]
  },
  {
   "cell_type": "code",
   "execution_count": 41,
   "id": "8316a384",
   "metadata": {},
   "outputs": [
    {
     "data": {
      "image/png": "[encoded data removed]",
      "text/plain": [
       "<Figure size 1000x800 with 1 Axes>"
      ]
     },
     "metadata": {},
     "output_type": "display_data"
    }
   ],
   "source": [
    "layout = g.layout(\"kk\")\n",
    "\n",
    "type_to_color = {\n",
    "    \"SUPPLIER_SITE\": \"red\",\n",
    "    \"INTERMEDIATE\": \"cyan\",\n",
    "    \"MANUFACTURER\": \"green\"\n",
    "    }\n",
    "\n",
    "vertex_colors = [type_to_color[t] if t else \"gray\" for t in g.vs[\"type\"]]\n",
    "vertex_labels = [v['name'] if v['type'] != \"INTERMEDIATE\" else v['name'].split(\",\")[2].strip() for v in g.vs]\n",
    "\n",
    "v_n_orders = g.vs[\"n_orders\"]\n",
    "min_size, max_size = 25, 70\n",
    "vertex_sizes = [\n",
    "    min_size + (max_size - min_size) * (n - min(v_n_orders)) / (max(v_n_orders) - min(v_n_orders))\n",
    "    for n in v_n_orders\n",
    "]\n",
    "\n",
    "e_n_orders = g.es[\"n_orders\"]\n",
    "min_e_size, max_e_size = 1.0, 3.0\n",
    "edge_sizes = [\n",
    "    min_e_size + (max_e_size - min_e_size) * (n - min(e_n_orders)) / (max(e_n_orders) - min(e_n_orders))\n",
    "    for n in e_n_orders\n",
    "]\n",
    "\n",
    "fig, ax = plt.subplots(figsize=(10, 8))\n",
    "ig.plot(\n",
    "    g,\n",
    "    target=ax,\n",
    "    layout=layout,\n",
    "    vertex_label=vertex_labels,\n",
    "    vertex_size=vertex_sizes,\n",
    "    vertex_color=vertex_colors,\n",
    "    edge_width=edge_sizes,\n",
    "    edge_arrow_size=5.0,\n",
    "    edge_arrow_width=5.0,\n",
    "    edge_color=\"black\"\n",
    ")\n",
    "plt.savefig(\"graph_visualization.png\")\n",
    "plt.title(\"Supply Chain Graph Visualization\")\n",
    "plt.show()\n"
   ]
  },
  {
   "cell_type": "code",
   "execution_count": 11,
   "id": "a2e0c2cf",
   "metadata": {},
   "outputs": [
    {
     "data": {
      "text/plain": [
       "<core.sc_graph.sc_graph.SCGraph at 0x241aea1da90>"
      ]
     },
     "execution_count": 11,
     "metadata": {},
     "output_type": "execute_result"
    }
   ],
   "source": [
    "from core.sc_graph.sc_graph import SCGraph\n",
    "from core.sc_graph.path_prob.path_prob_manager import PathProbManager\n",
    "from core.sc_graph.path_extraction.path_extraction_manager import PathExtractionManager\n",
    "\n",
    "manufacturer: ig.Vertex = g.vs.find(type=\"MANUFACTURER\")\n",
    "\n",
    "path_extraction_manager: PathExtractionManager = PathExtractionManager(g, maybe_manufacturer=manufacturer)\n",
    "path_prob_manager: PathProbManager = PathProbManager(g, maybe_manufacturer=manufacturer)\n",
    "\n",
    "sc_graph: SCGraph = SCGraph(g, path_extraction_manager, path_prob_manager)\n",
    "sc_graph"
   ]
  },
  {
   "cell_type": "code",
   "execution_count": 12,
   "id": "7109f6cb",
   "metadata": {},
   "outputs": [
    {
     "name": "stdout",
     "output_type": "stream",
     "text": [
      "LEIPZIG, SAXONY, DE\n",
      "2\n",
      "LONATE POZZOLO, LOMBARDY, IT\n",
      "ISTANBUL, ISTANBUL, TR\n",
      "PARIS, ÎLE-DE-FRANCE, FR\n",
      "FAE\n",
      "LEEDS, ENGLAND, GB\n",
      "ZHUHAI, GUANGDONG, CN\n",
      "RIFFA, SOUTHERN GOVERNORATE, BH\n",
      "DUBAI, DUBAI, AE\n",
      "MANSFIELD, TEXAS, US\n",
      "FORT WORTH, TEXAS, US\n",
      "4\n",
      "15\n",
      "12\n",
      "6\n",
      "18\n",
      "9\n",
      "THIEF RIVER FALLS, MINNESOTA, US\n",
      "10\n",
      "17\n",
      "GDANSK, POMERANIA, PL\n",
      "ROME, LAZIO, IT\n",
      "19\n",
      "BRATISLAVA, BRATISLAVA REGION, SK\n",
      "11\n",
      "DONGGUAN, GUANGDONG, CN\n",
      "BRUSSELS, BRUSSELS CAPITAL, BE\n",
      "16\n",
      "HO CHI MINH CITY, HO CHI MINH, VN\n",
      "HONG KONG, UNKNOWN, HK\n",
      "1\n",
      "21\n",
      "BRESCIA, LOMBARDY, IT\n",
      "COLOGNE, NORTH RHINE-WESTPHALIA, DE\n",
      "BALERNA, TICINO, CH\n",
      "WARSAW, MAZOVIA, PL\n",
      "TREVIOLO, LOMBARDY, IT\n",
      "SHENZHEN, GUANGDONG, CN\n",
      "8\n",
      "SAN JOSÉ, SAN JOSÉ, CR\n",
      "20\n",
      "CASTLE DONINGTON, ENGLAND, GB\n",
      "NEW DELHI, DELHI, IN\n",
      "5\n",
      "TSUEN WAN, TSUEN WAN, HK\n",
      "GRAND PRAIRIE, TEXAS, US\n",
      "GUANGZHOU, GUANGDONG, CN\n",
      "NEW YORK, NEW YORK, US\n",
      "LOUISVILLE, KENTUCKY, US\n",
      "FARGO, NORTH DAKOTA, US\n",
      "14\n",
      "MONTAGNOLA, TICINO, CH\n",
      "MINNEAPOLIS, MINNESOTA, US\n",
      "SERIATE, LOMBARDY, IT\n",
      "BERGAMO, LOMBARDY, IT\n",
      "FRANKFURT AM MAIN, HESSE, DE\n",
      "GRASSOBBIO, LOMBARDY, IT\n",
      "NEWARK, DELAWARE, US\n",
      "PEABODY, MASSACHUSETTS, US\n",
      "7\n",
      "LONDON, ENGLAND, GB\n",
      "BOCA RATON, FLORIDA, US\n",
      "CINCINNATI, OHIO, US\n",
      "13\n",
      "3\n"
     ]
    }
   ],
   "source": [
    "for v in sc_graph.graph.vs:\n",
    "    print(f\"{v['name']}\")"
   ]
  },
  {
   "cell_type": "code",
   "execution_count": 13,
   "id": "fdced990",
   "metadata": {},
   "outputs": [
    {
     "data": {
      "text/plain": [
       "igraph.Vertex(<igraph.Graph object at 0x00000241AB512350>, 55, {'v_id': 56, 'name': 'BERGAMO, LOMBARDY, IT', 'type': 'INTERMEDIATE', 'location': 'BERGAMO, LOMBARDY, IT', 'receiver_distance': 16.64796869542368, 'latitude': 45.69601, 'longitude': 9.66721, 'site_id': None, 'company_id': None, 'company_name': None, 'manufacturer_supplier_id': None, 'n_rejections': None, 'n_orders': 16, 'avg_ori': 2.1533333333333333, 'n_orders_by_carrier': {'DHL Express': 4, 'DHL': 12}, 'orders': [{'order_id': 36, 'manufacturer_order_id': 6601, 'tracking_number': '1029182744', 'carrier_name': 'DHL Express'}, {'order_id': 18, 'manufacturer_order_id': 6176, 'tracking_number': '3708691556', 'carrier_name': 'DHL'}, {'order_id': 36, 'manufacturer_order_id': 6601, 'tracking_number': '1029182744', 'carrier_name': 'DHL Express'}, {'order_id': 13, 'manufacturer_order_id': 6131, 'tracking_number': '1867024880', 'carrier_name': 'DHL'}, {'order_id': 40, 'manufacturer_order_id': 6781, 'tracking_number': '8709479516', 'carrier_name': 'DHL'}, {'order_id': 13, 'manufacturer_order_id': 6131, 'tracking_number': '1867024880', 'carrier_name': 'DHL'}, {'order_id': 40, 'manufacturer_order_id': 6781, 'tracking_number': '8709479516', 'carrier_name': 'DHL'}, {'order_id': 35, 'manufacturer_order_id': 6475, 'tracking_number': '1228893735', 'carrier_name': 'DHL Express'}, {'order_id': 35, 'manufacturer_order_id': 6475, 'tracking_number': '1228893735', 'carrier_name': 'DHL Express'}, {'order_id': 21, 'manufacturer_order_id': 6201, 'tracking_number': '2928052713', 'carrier_name': 'DHL Express'}, {'order_id': 21, 'manufacturer_order_id': 6201, 'tracking_number': '2928052713', 'carrier_name': 'DHL Express'}, {'order_id': 11, 'manufacturer_order_id': 6118, 'tracking_number': '4792756275', 'carrier_name': 'DHL'}, {'order_id': 39, 'manufacturer_order_id': 6661, 'tracking_number': '4646146046', 'carrier_name': 'DHL'}, {'order_id': 39, 'manufacturer_order_id': 6661, 'tracking_number': '4646146046', 'carrier_name': 'DHL'}, {'order_id': 43, 'manufacturer_order_id': 7074, 'tracking_number': '2522622410', 'carrier_name': 'DHL'}, {'order_id': 43, 'manufacturer_order_id': 7074, 'tracking_number': '2522622410', 'carrier_name': 'DHL'}, {'order_id': 11, 'manufacturer_order_id': 6118, 'tracking_number': '4792756275', 'carrier_name': 'DHL'}, {'order_id': 15, 'manufacturer_order_id': 6139, 'tracking_number': '3496884705', 'carrier_name': 'DHL'}, {'order_id': 24, 'manufacturer_order_id': 6258, 'tracking_number': '7721189711', 'carrier_name': 'DHL'}, {'order_id': 33, 'manufacturer_order_id': 6443, 'tracking_number': '8940120210', 'carrier_name': 'DHL'}, {'order_id': 15, 'manufacturer_order_id': 6139, 'tracking_number': '3496884705', 'carrier_name': 'DHL'}, {'order_id': 24, 'manufacturer_order_id': 6258, 'tracking_number': '7721189711', 'carrier_name': 'DHL'}, {'order_id': 33, 'manufacturer_order_id': 6443, 'tracking_number': '8940120210', 'carrier_name': 'DHL'}, {'order_id': 1, 'manufacturer_order_id': 6004, 'tracking_number': '1656325344', 'carrier_name': 'DHL Express'}, {'order_id': 19, 'manufacturer_order_id': 6183, 'tracking_number': '6193327630', 'carrier_name': 'DHL'}, {'order_id': 28, 'manufacturer_order_id': 6328, 'tracking_number': '5793924850', 'carrier_name': 'DHL'}, {'order_id': 1, 'manufacturer_order_id': 6004, 'tracking_number': '1656325344', 'carrier_name': 'DHL Express'}, {'order_id': 19, 'manufacturer_order_id': 6183, 'tracking_number': '6193327630', 'carrier_name': 'DHL'}, {'order_id': 28, 'manufacturer_order_id': 6328, 'tracking_number': '5793924850', 'carrier_name': 'DHL'}, {'order_id': 14, 'manufacturer_order_id': 6135, 'tracking_number': '8641336944', 'carrier_name': 'DHL'}, {'order_id': 14, 'manufacturer_order_id': 6135, 'tracking_number': '8641336944', 'carrier_name': 'DHL'}, {'order_id': 18, 'manufacturer_order_id': 6176, 'tracking_number': '3708691556', 'carrier_name': 'DHL'}]})"
      ]
     },
     "execution_count": 13,
     "metadata": {},
     "output_type": "execute_result"
    }
   ],
   "source": [
    "s: ig.Vertex = g.vs.select(v_id=56)[0]\n",
    "s"
   ]
  },
  {
   "cell_type": "code",
   "execution_count": 14,
   "id": "2454b9ed",
   "metadata": {},
   "outputs": [
    {
     "data": {
      "text/plain": [
       "igraph.Vertex(<igraph.Graph object at 0x00000241AB512350>, 11, {'v_id': 12, 'name': 'FORT WORTH, TEXAS, US', 'type': 'INTERMEDIATE', 'location': 'FORT WORTH, TEXAS, US', 'receiver_distance': 8649.623278450543, 'latitude': 32.72541, 'longitude': -97.32085, 'site_id': None, 'company_id': None, 'company_name': None, 'manufacturer_supplier_id': None, 'n_rejections': None, 'n_orders': 2, 'avg_ori': 2.7416666666666663, 'n_orders_by_carrier': {'FedEx': 2}, 'orders': [{'order_id': 5, 'manufacturer_order_id': 6046, 'tracking_number': '437446419489', 'carrier_name': 'FedEx'}, {'order_id': 16, 'manufacturer_order_id': 6143, 'tracking_number': '439295386515', 'carrier_name': 'FedEx'}, {'order_id': 16, 'manufacturer_order_id': 6143, 'tracking_number': '439295386515', 'carrier_name': 'FedEx'}, {'order_id': 5, 'manufacturer_order_id': 6046, 'tracking_number': '437446419489', 'carrier_name': 'FedEx'}]})"
      ]
     },
     "execution_count": 14,
     "metadata": {},
     "output_type": "execute_result"
    }
   ],
   "source": [
    "d: ig.Vertex = g.vs.select(v_id=12)[0]\n",
    "d"
   ]
  },
  {
   "cell_type": "code",
   "execution_count": 15,
   "id": "8f0b9fb9",
   "metadata": {},
   "outputs": [
    {
     "name": "stdout",
     "output_type": "stream",
     "text": [
      "No direct edge found from BERGAMO, LOMBARDY, IT to FORT WORTH, TEXAS, US\n"
     ]
    }
   ],
   "source": [
    "# Find edges from s to d\n",
    "edges_s_to_d = g.es.select(_source=s.index, _target=d.index)\n",
    "if edges_s_to_d:\n",
    "    edge = edges_s_to_d[0]\n",
    "    print(f\"Edge from {s['name']} to {d['name']}:\")\n",
    "    for attr in edge.attributes():\n",
    "        print(f\"  {attr}: {edge[attr]}\")\n",
    "else:\n",
    "    print(f\"No direct edge found from {s['name']} to {d['name']}\")"
   ]
  },
  {
   "cell_type": "code",
   "execution_count": 62,
   "id": "4dc9f310",
   "metadata": {},
   "outputs": [
    {
     "data": {
      "text/plain": [
       "['LEIPZIG, SAXONY, DE',\n",
       " 'LONATE POZZOLO, LOMBARDY, IT',\n",
       " 'ISTANBUL, ISTANBUL, TR',\n",
       " 'PARIS, ÎLE-DE-FRANCE, FR',\n",
       " 'LEEDS, ENGLAND, GB',\n",
       " 'ZHUHAI, GUANGDONG, CN',\n",
       " 'RIFFA, SOUTHERN GOVERNORATE, BH',\n",
       " 'DUBAI, DUBAI, AE',\n",
       " 'MANSFIELD, TEXAS, US',\n",
       " 'FORT WORTH, TEXAS, US',\n",
       " 'THIEF RIVER FALLS, MINNESOTA, US',\n",
       " 'GDANSK, POMERANIA, PL',\n",
       " 'ROME, LAZIO, IT',\n",
       " 'BRATISLAVA, BRATISLAVA REGION, SK',\n",
       " 'DONGGUAN, GUANGDONG, CN',\n",
       " 'BRUSSELS, BRUSSELS CAPITAL, BE',\n",
       " 'HO CHI MINH CITY, HO CHI MINH, VN',\n",
       " 'HONG KONG, UNKNOWN, HK',\n",
       " 'BRESCIA, LOMBARDY, IT',\n",
       " 'COLOGNE, NORTH RHINE-WESTPHALIA, DE',\n",
       " 'BALERNA, TICINO, CH',\n",
       " 'WARSAW, MAZOVIA, PL',\n",
       " 'TREVIOLO, LOMBARDY, IT',\n",
       " 'SHENZHEN, GUANGDONG, CN',\n",
       " 'SAN JOSÉ, SAN JOSÉ, CR',\n",
       " 'CASTLE DONINGTON, ENGLAND, GB',\n",
       " 'NEW DELHI, DELHI, IN',\n",
       " 'TSUEN WAN, TSUEN WAN, HK',\n",
       " 'GRAND PRAIRIE, TEXAS, US',\n",
       " 'GUANGZHOU, GUANGDONG, CN',\n",
       " 'NEW YORK, NEW YORK, US',\n",
       " 'LOUISVILLE, KENTUCKY, US',\n",
       " 'FARGO, NORTH DAKOTA, US',\n",
       " 'MONTAGNOLA, TICINO, CH',\n",
       " 'MINNEAPOLIS, MINNESOTA, US',\n",
       " 'SERIATE, LOMBARDY, IT',\n",
       " 'BERGAMO, LOMBARDY, IT',\n",
       " 'FRANKFURT AM MAIN, HESSE, DE',\n",
       " 'GRASSOBBIO, LOMBARDY, IT',\n",
       " 'NEWARK, DELAWARE, US',\n",
       " 'PEABODY, MASSACHUSETTS, US',\n",
       " 'LONDON, ENGLAND, GB',\n",
       " 'BOCA RATON, FLORIDA, US',\n",
       " 'CINCINNATI, OHIO, US']"
      ]
     },
     "execution_count": 62,
     "metadata": {},
     "output_type": "execute_result"
    }
   ],
   "source": [
    "[v[\"name\"] for v in g.vs if v[\"type\"] == \"INTERMEDIATE\"]"
   ]
  },
  {
   "cell_type": "code",
   "execution_count": 75,
   "id": "4618ee9b",
   "metadata": {},
   "outputs": [
    {
     "data": {
      "text/plain": [
       "(PathsNameDTO(requested_carriers=['DHL Express', 'DHL', 'UPS', 'FedEx'], valid_carriers=['DHL', 'FedEx', 'DHL Express'], source='HONG KONG, UNKNOWN, HK', destination='FAE', paths=[ProbPathNameDTO(prob=0.1111111111111111, carrier='DHL', path=['HONG KONG, UNKNOWN, HK', 'LEIPZIG, SAXONY, DE', 'BRESCIA, LOMBARDY, IT', 'BERGAMO, LOMBARDY, IT', 'FAE']), ProbPathNameDTO(prob=0.2222222222222222, carrier='DHL', path=['HONG KONG, UNKNOWN, HK', 'RIFFA, SOUTHERN GOVERNORATE, BH', 'LEIPZIG, SAXONY, DE', 'BRESCIA, LOMBARDY, IT', 'BERGAMO, LOMBARDY, IT', 'FAE']), ProbPathNameDTO(prob=0.1111111111111111, carrier='DHL', path=['HONG KONG, UNKNOWN, HK', 'RIFFA, SOUTHERN GOVERNORATE, BH', 'ROME, LAZIO, IT', 'BRESCIA, LOMBARDY, IT', 'BERGAMO, LOMBARDY, IT', 'FAE']), ProbPathNameDTO(prob=0.1111111111111111, carrier='DHL', path=['HONG KONG, UNKNOWN, HK', 'COLOGNE, NORTH RHINE-WESTPHALIA, DE', 'LEIPZIG, SAXONY, DE', 'BRESCIA, LOMBARDY, IT', 'BERGAMO, LOMBARDY, IT', 'FAE']), ProbPathNameDTO(prob=0.1111111111111111, carrier='DHL', path=['HONG KONG, UNKNOWN, HK', 'FRANKFURT AM MAIN, HESSE, DE', 'LEIPZIG, SAXONY, DE', 'BRESCIA, LOMBARDY, IT', 'BERGAMO, LOMBARDY, IT', 'FAE']), ProbPathNameDTO(prob=0.1111111111111111, carrier='FedEx', path=['HONG KONG, UNKNOWN, HK', 'ISTANBUL, ISTANBUL, TR', 'PARIS, ÎLE-DE-FRANCE, FR', 'LONATE POZZOLO, LOMBARDY, IT', 'GRASSOBBIO, LOMBARDY, IT', 'FAE']), ProbPathNameDTO(prob=0.1111111111111111, carrier='DHL Express', path=['HONG KONG, UNKNOWN, HK', 'RIFFA, SOUTHERN GOVERNORATE, BH', 'LEIPZIG, SAXONY, DE', 'BRESCIA, LOMBARDY, IT', 'BERGAMO, LOMBARDY, IT', 'FAE']), ProbPathNameDTO(prob=0.1111111111111111, carrier='DHL Express', path=['HONG KONG, UNKNOWN, HK', 'LONDON, ENGLAND, GB', 'LEIPZIG, SAXONY, DE', 'BRESCIA, LOMBARDY, IT', 'BERGAMO, LOMBARDY, IT', 'FAE'])]),\n",
       " 8)"
      ]
     },
     "execution_count": 75,
     "metadata": {},
     "output_type": "execute_result"
    }
   ],
   "source": [
    "from core.sc_graph.utils import VertexIdentifier\n",
    "\n",
    "paths = sc_graph.extract_paths(source=\"HONG KONG, UNKNOWN, HK\", carriers=['DHL Express', 'DHL', 'UPS', 'FedEx'], zero_prob_paths=False, by=VertexIdentifier.NAME)\n",
    "paths, paths.n_paths"
   ]
  },
  {
   "cell_type": "code",
   "execution_count": 18,
   "id": "3e8ea900",
   "metadata": {},
   "outputs": [
    {
     "data": {
      "text/plain": [
       "[['DHL Express'],\n",
       " ['DHL'],\n",
       " ['UPS'],\n",
       " ['FedEx'],\n",
       " ['DHL Express', 'DHL'],\n",
       " ['DHL Express', 'UPS'],\n",
       " ['DHL Express', 'FedEx'],\n",
       " ['DHL', 'UPS'],\n",
       " ['DHL', 'FedEx'],\n",
       " ['UPS', 'FedEx'],\n",
       " ['DHL Express', 'DHL', 'UPS'],\n",
       " ['DHL Express', 'DHL', 'FedEx'],\n",
       " ['DHL Express', 'UPS', 'FedEx'],\n",
       " ['DHL', 'UPS', 'FedEx'],\n",
       " ['DHL Express', 'DHL', 'UPS', 'FedEx']]"
      ]
     },
     "execution_count": 18,
     "metadata": {},
     "output_type": "execute_result"
    }
   ],
   "source": [
    "from itertools import combinations\n",
    "\n",
    "# Get all possible combinations of carriers\n",
    "carriers = [\"DHL Express\", \"DHL\", \"UPS\", \"FedEx\"]\n",
    "all_combinations = []\n",
    "\n",
    "for r in range(1, len(carriers) + 1):\n",
    "    for combo in combinations(carriers, r):\n",
    "        all_combinations.append(list(combo))\n",
    "\n",
    "all_combinations"
   ]
  },
  {
   "cell_type": "code",
   "execution_count": 19,
   "id": "1bdbbfc2",
   "metadata": {},
   "outputs": [
    {
     "data": {
      "text/plain": [
       "2925"
      ]
     },
     "execution_count": 19,
     "metadata": {},
     "output_type": "execute_result"
    }
   ],
   "source": [
    "j = 0\n",
    "for i in range(1, sc_graph.graph.vcount()):\n",
    "    for carriers in all_combinations:\n",
    "        for by in [VertexIdentifier.ID, VertexIdentifier.NAME, VertexIdentifier.INDEX]:\n",
    "            try:\n",
    "                paths = sc_graph.extract_paths(source=i, carriers=carriers, zero_prob_paths=True, by=by)\n",
    "            except Exception as e:\n",
    "                print(f\"Error extracting paths for source {i}: {e}\")\n",
    "                continue\n",
    "            j += 1\n",
    "\n",
    "j"
   ]
  },
  {
   "cell_type": "code",
   "execution_count": 71,
   "id": "37189be8",
   "metadata": {},
   "outputs": [
    {
     "name": "stdout",
     "output_type": "stream",
     "text": [
      "Source 2 (index 1): 2 paths extracted\n",
      "Source LONATE POZZOLO, LOMBARDY, IT (index 2): 1 paths extracted\n",
      "Source ISTANBUL, ISTANBUL, TR (index 3): 1 paths extracted\n",
      "Source PARIS, ÎLE-DE-FRANCE, FR (index 4): 1 paths extracted\n",
      "Source FAE (index 5): 4 paths extracted\n",
      "Source LEEDS, ENGLAND, GB (index 6): 2 paths extracted\n",
      "Source ZHUHAI, GUANGDONG, CN (index 7): 2 paths extracted\n",
      "Source RIFFA, SOUTHERN GOVERNORATE, BH (index 8): 4 paths extracted\n",
      "Source DUBAI, DUBAI, AE (index 9): 1 paths extracted\n",
      "Source MANSFIELD, TEXAS, US (index 10): 4 paths extracted\n",
      "Source FORT WORTH, TEXAS, US (index 11): 2 paths extracted\n",
      "Source 4 (index 12): 8 paths extracted\n",
      "Source 15 (index 13): 1 paths extracted\n",
      "Source 12 (index 14): 1 paths extracted\n",
      "Source 6 (index 15): 3 paths extracted\n",
      "Source 18 (index 16): 2 paths extracted\n",
      "Source 9 (index 17): 9 paths extracted\n",
      "Source THIEF RIVER FALLS, MINNESOTA, US (index 18): 4 paths extracted\n",
      "Source 10 (index 19): 8 paths extracted\n",
      "Source 17 (index 20): 9 paths extracted\n",
      "Source GDANSK, POMERANIA, PL (index 21): 1 paths extracted\n",
      "Source ROME, LAZIO, IT (index 22): 1 paths extracted\n",
      "Source 19 (index 23): 9 paths extracted\n",
      "Source BRATISLAVA, BRATISLAVA REGION, SK (index 24): 1 paths extracted\n",
      "Source 11 (index 25): 2 paths extracted\n",
      "Source DONGGUAN, GUANGDONG, CN (index 26): 22 paths extracted\n",
      "Source BRUSSELS, BRUSSELS CAPITAL, BE (index 27): 1 paths extracted\n",
      "Source 16 (index 28): 1 paths extracted\n",
      "Source HO CHI MINH CITY, HO CHI MINH, VN (index 29): 8 paths extracted\n",
      "Source HONG KONG, UNKNOWN, HK (index 30): 24 paths extracted\n",
      "Source 1 (index 31): 4 paths extracted\n",
      "Source 21 (index 32): 8 paths extracted\n",
      "Source BRESCIA, LOMBARDY, IT (index 33): 2 paths extracted\n",
      "Source COLOGNE, NORTH RHINE-WESTPHALIA, DE (index 34): 4 paths extracted\n",
      "Source BALERNA, TICINO, CH (index 35): 1 paths extracted\n",
      "Source WARSAW, MAZOVIA, PL (index 36): 1 paths extracted\n",
      "Source TREVIOLO, LOMBARDY, IT (index 37): 1 paths extracted\n",
      "Source SHENZHEN, GUANGDONG, CN (index 38): 18 paths extracted\n",
      "Source 8 (index 39): 22 paths extracted\n",
      "Source SAN JOSÉ, SAN JOSÉ, CR (index 40): 2 paths extracted\n",
      "Source 20 (index 41): 1 paths extracted\n",
      "Source CASTLE DONINGTON, ENGLAND, GB (index 42): 2 paths extracted\n",
      "Source NEW DELHI, DELHI, IN (index 43): 1 paths extracted\n",
      "Source 5 (index 44): 1 paths extracted\n",
      "Source TSUEN WAN, TSUEN WAN, HK (index 45): 8 paths extracted\n",
      "Source GRAND PRAIRIE, TEXAS, US (index 46): 4 paths extracted\n",
      "Source GUANGZHOU, GUANGDONG, CN (index 47): 2 paths extracted\n",
      "Source NEW YORK, NEW YORK, US (index 48): 4 paths extracted\n",
      "Source LOUISVILLE, KENTUCKY, US (index 49): 2 paths extracted\n",
      "Source FARGO, NORTH DAKOTA, US (index 50): 2 paths extracted\n",
      "Source 14 (index 51): 2 paths extracted\n",
      "Source MONTAGNOLA, TICINO, CH (index 52): 1 paths extracted\n",
      "Source MINNEAPOLIS, MINNESOTA, US (index 53): 1 paths extracted\n",
      "Source SERIATE, LOMBARDY, IT (index 54): 1 paths extracted\n",
      "Source BERGAMO, LOMBARDY, IT (index 55): 2 paths extracted\n",
      "Source FRANKFURT AM MAIN, HESSE, DE (index 56): 1 paths extracted\n",
      "Source GRASSOBBIO, LOMBARDY, IT (index 57): 1 paths extracted\n",
      "Source NEWARK, DELAWARE, US (index 58): 1 paths extracted\n",
      "Source PEABODY, MASSACHUSETTS, US (index 59): 3 paths extracted\n",
      "Source 7 (index 60): 9 paths extracted\n",
      "Source LONDON, ENGLAND, GB (index 61): 1 paths extracted\n",
      "Source BOCA RATON, FLORIDA, US (index 62): 2 paths extracted\n",
      "Source CINCINNATI, OHIO, US (index 63): 2 paths extracted\n",
      "Source 13 (index 64): 8 paths extracted\n",
      "Source 3 (index 65): 6 paths extracted\n",
      "Total paths: 270\n",
      "Average paths per vertex: 4.153846153846154\n",
      "Standard deviation of paths per vertex: 5.150745335851201\n",
      "Minimum paths per vertex: 1\n",
      "Maximum paths per vertex: 24\n"
     ]
    },
    {
     "data": {
      "text/plain": [
       "'1'"
      ]
     },
     "execution_count": 71,
     "metadata": {},
     "output_type": "execute_result"
    }
   ],
   "source": [
    "import numpy as np\n",
    "\n",
    "paths_data: list = []\n",
    "n_paths: float = 0.0\n",
    "for i in range(1, sc_graph.graph.vcount()):\n",
    "    v = sc_graph.graph.vs[i]\n",
    "    paths = sc_graph.extract_paths(source=v, carriers=['DHL Express', 'DHL', 'UPS', 'FedEx'], zero_prob_paths=True, by=by)\n",
    "    paths_data.append(paths)\n",
    "    print(f\"Source {v['name']} (index {v.index}): {paths.n_paths} paths extracted\")\n",
    "\n",
    "paths_v: np.ndarray = np.array([paths.n_paths for paths in paths_data])\n",
    "\n",
    "print(f\"Total paths: {sum(paths_v)}\")\n",
    "print(f\"Average paths per vertex: {np.mean(paths_v)}\")\n",
    "print(f\"Standard deviation of paths per vertex: {np.std(paths_v)}\")\n",
    "print(f\"Minimum paths per vertex: {np.min(paths_v)}\")\n",
    "print(f\"Maximum paths per vertex: {np.max(paths_v)}\")\n",
    "\n",
    "g.vs[31][\"name\"]"
   ]
  },
  {
   "cell_type": "code",
   "execution_count": 66,
   "id": "4e846ef9",
   "metadata": {},
   "outputs": [
    {
     "data": {
      "text/plain": [
       "array([ 2,  2,  1,  1,  1,  4,  2,  2,  4,  1,  4,  2,  8,  1,  1,  3,  2,\n",
       "        9,  4,  8,  9,  1,  1,  9,  1,  2, 22,  1,  1,  8, 24,  4,  8,  2,\n",
       "        4,  1,  1,  1, 18, 22,  2,  1,  2,  1,  1,  8,  4,  2,  4,  2,  2,\n",
       "        2,  1,  1,  1,  2,  1,  1,  1,  3,  9,  1,  2,  2,  8])"
      ]
     },
     "execution_count": 66,
     "metadata": {},
     "output_type": "execute_result"
    }
   ],
   "source": [
    "paths_v"
   ]
  },
  {
   "cell_type": "code",
   "execution_count": 54,
   "id": "672b1ba6",
   "metadata": {},
   "outputs": [
    {
     "data": {
      "text/plain": [
       "[PathsIdDTO(requested_carriers=['DHL Express', 'DHL', 'UPS', 'FedEx'], valid_carriers=['DHL', 'DHL Express'], source=0, destination=5, paths=[ProbPathIdDTO(prob=0.7333333333333333, carrier='DHL', path=[0, 33, 55, 5]), ProbPathIdDTO(prob=0.26666666666666666, carrier='DHL Express', path=[0, 33, 55, 5])]),\n",
       " PathsIdDTO(requested_carriers=['DHL Express', 'DHL', 'UPS', 'FedEx'], valid_carriers=['UPS'], source=1, destination=5, paths=[ProbPathIdDTO(prob=0.0, carrier='UPS', path=[1, 49, 34, 0, 33, 55, 5]), ProbPathIdDTO(prob=1.0, carrier='UPS', path=[1, 49, 34, 54, 37, 5])]),\n",
       " PathsIdDTO(requested_carriers=['DHL Express', 'DHL', 'UPS', 'FedEx'], valid_carriers=['FedEx'], source=2, destination=5, paths=[ProbPathIdDTO(prob=1.0, carrier='FedEx', path=[2, 57, 5])]),\n",
       " PathsIdDTO(requested_carriers=['DHL Express', 'DHL', 'UPS', 'FedEx'], valid_carriers=['FedEx'], source=3, destination=5, paths=[ProbPathIdDTO(prob=1.0, carrier='FedEx', path=[3, 4, 2, 57, 5])]),\n",
       " PathsIdDTO(requested_carriers=['DHL Express', 'DHL', 'UPS', 'FedEx'], valid_carriers=['FedEx'], source=4, destination=5, paths=[ProbPathIdDTO(prob=1.0, carrier='FedEx', path=[4, 2, 57, 5])]),\n",
       " PathsIdDTO(requested_carriers=['DHL Express', 'DHL', 'UPS', 'FedEx'], valid_carriers=['UPS', 'DHL', 'FedEx', 'DHL Express'], source=5, destination=5, paths=[ProbPathIdDTO(prob=0.7040816326530612, carrier='UPS', path=[5]), ProbPathIdDTO(prob=0.12244897959183673, carrier='DHL', path=[5]), ProbPathIdDTO(prob=0.1326530612244898, carrier='FedEx', path=[5]), ProbPathIdDTO(prob=0.04081632653061224, carrier='DHL Express', path=[5])]),\n",
       " PathsIdDTO(requested_carriers=['DHL Express', 'DHL', 'UPS', 'FedEx'], valid_carriers=['UPS'], source=6, destination=5, paths=[ProbPathIdDTO(prob=0.0, carrier='UPS', path=[6, 42, 34, 0, 33, 55, 5]), ProbPathIdDTO(prob=1.0, carrier='UPS', path=[6, 42, 34, 54, 37, 5])]),\n",
       " PathsIdDTO(requested_carriers=['DHL Express', 'DHL', 'UPS', 'FedEx'], valid_carriers=['FedEx'], source=7, destination=5, paths=[ProbPathIdDTO(prob=0.5, carrier='FedEx', path=[7, 47, 3, 4, 2, 57, 5]), ProbPathIdDTO(prob=0.5, carrier='FedEx', path=[7, 47, 43, 9, 4, 2, 57, 5])]),\n",
       " PathsIdDTO(requested_carriers=['DHL Express', 'DHL', 'UPS', 'FedEx'], valid_carriers=['DHL', 'DHL Express'], source=8, destination=5, paths=[ProbPathIdDTO(prob=0.5, carrier='DHL', path=[8, 0, 33, 55, 5]), ProbPathIdDTO(prob=0.25, carrier='DHL', path=[8, 22, 33, 55, 5]), ProbPathIdDTO(prob=0.25, carrier='DHL Express', path=[8, 0, 33, 55, 5]), ProbPathIdDTO(prob=0.0, carrier='DHL Express', path=[8, 22, 33, 55, 5])]),\n",
       " PathsIdDTO(requested_carriers=['DHL Express', 'DHL', 'UPS', 'FedEx'], valid_carriers=['FedEx'], source=9, destination=5, paths=[ProbPathIdDTO(prob=1.0, carrier='FedEx', path=[9, 4, 2, 57, 5])]),\n",
       " PathsIdDTO(requested_carriers=['DHL Express', 'DHL', 'UPS', 'FedEx'], valid_carriers=['FedEx'], source=10, destination=5, paths=[ProbPathIdDTO(prob=0.4000000000000001, carrier='FedEx', path=[10, 11, 48, 4, 2, 57, 5]), ProbPathIdDTO(prob=0.0, carrier='FedEx', path=[10, 11, 48, 63, 0, 33, 55, 5]), ProbPathIdDTO(prob=0.6, carrier='FedEx', path=[10, 48, 4, 2, 57, 5]), ProbPathIdDTO(prob=0.0, carrier='FedEx', path=[10, 48, 63, 0, 33, 55, 5])]),\n",
       " PathsIdDTO(requested_carriers=['DHL Express', 'DHL', 'UPS', 'FedEx'], valid_carriers=['FedEx'], source=11, destination=5, paths=[ProbPathIdDTO(prob=1.0, carrier='FedEx', path=[11, 48, 4, 2, 57, 5]), ProbPathIdDTO(prob=0.0, carrier='FedEx', path=[11, 48, 63, 0, 33, 55, 5])]),\n",
       " PathsIdDTO(requested_carriers=['DHL Express', 'DHL', 'UPS', 'FedEx'], valid_carriers=['FedEx'], source=12, destination=5, paths=[ProbPathIdDTO(prob=0.16, carrier='FedEx', path=[12, 10, 11, 48, 4, 2, 57, 5]), ProbPathIdDTO(prob=0.0, carrier='FedEx', path=[12, 10, 11, 48, 63, 0, 33, 55, 5]), ProbPathIdDTO(prob=0.24000000000000007, carrier='FedEx', path=[12, 10, 48, 4, 2, 57, 5]), ProbPathIdDTO(prob=0.0, carrier='FedEx', path=[12, 10, 48, 63, 0, 33, 55, 5]), ProbPathIdDTO(prob=0.24000000000000002, carrier='FedEx', path=[12, 46, 10, 11, 48, 4, 2, 57, 5]), ProbPathIdDTO(prob=0.0, carrier='FedEx', path=[12, 46, 10, 11, 48, 63, 0, 33, 55, 5]), ProbPathIdDTO(prob=0.36000000000000004, carrier='FedEx', path=[12, 46, 10, 48, 4, 2, 57, 5]), ProbPathIdDTO(prob=0.0, carrier='FedEx', path=[12, 46, 10, 48, 63, 0, 33, 55, 5])]),\n",
       " PathsIdDTO(requested_carriers=['DHL Express', 'DHL', 'UPS', 'FedEx'], valid_carriers=['DHL'], source=13, destination=5, paths=[ProbPathIdDTO(prob=1.0, carrier='DHL', path=[13, 24, 0, 33, 55, 5])]),\n",
       " PathsIdDTO(requested_carriers=['DHL Express', 'DHL', 'UPS', 'FedEx'], valid_carriers=['DHL'], source=14, destination=5, paths=[ProbPathIdDTO(prob=1.0, carrier='DHL', path=[14, 36, 0, 33, 55, 5])]),\n",
       " PathsIdDTO(requested_carriers=['DHL Express', 'DHL', 'UPS', 'FedEx'], valid_carriers=['FedEx'], source=15, destination=5, paths=[ProbPathIdDTO(prob=0.3333333333333333, carrier='FedEx', path=[15, 59, 48, 4, 2, 57, 5]), ProbPathIdDTO(prob=0.0, carrier='FedEx', path=[15, 59, 48, 63, 0, 33, 55, 5]), ProbPathIdDTO(prob=0.6666666666666666, carrier='FedEx', path=[15, 59, 58, 4, 2, 57, 5])]),\n",
       " PathsIdDTO(requested_carriers=['DHL Express', 'DHL', 'UPS', 'FedEx'], valid_carriers=['DHL'], source=16, destination=5, paths=[ProbPathIdDTO(prob=0.0, carrier='DHL', path=[16, 62, 48, 4, 2, 57, 5]), ProbPathIdDTO(prob=1.0, carrier='DHL', path=[16, 62, 48, 63, 0, 33, 55, 5])]),\n",
       " PathsIdDTO(requested_carriers=['DHL Express', 'DHL', 'UPS', 'FedEx'], valid_carriers=['DHL Express'], source=17, destination=5, paths=[ProbPathIdDTO(prob=0.5, carrier='DHL Express', path=[17, 38, 27, 0, 33, 55, 5]), ProbPathIdDTO(prob=0.0, carrier='DHL Express', path=[17, 38, 30, 0, 33, 55, 5]), ProbPathIdDTO(prob=0.0, carrier='DHL Express', path=[17, 38, 30, 3, 4, 2, 57, 5]), ProbPathIdDTO(prob=0.25, carrier='DHL Express', path=[17, 38, 30, 8, 0, 33, 55, 5]), ProbPathIdDTO(prob=0.0, carrier='DHL Express', path=[17, 38, 30, 8, 22, 33, 55, 5]), ProbPathIdDTO(prob=0.0, carrier='DHL Express', path=[17, 38, 30, 34, 0, 33, 55, 5]), ProbPathIdDTO(prob=0.0, carrier='DHL Express', path=[17, 38, 30, 34, 54, 37, 5]), ProbPathIdDTO(prob=0.0, carrier='DHL Express', path=[17, 38, 30, 56, 0, 33, 55, 5]), ProbPathIdDTO(prob=0.25, carrier='DHL Express', path=[17, 38, 30, 61, 0, 33, 55, 5])]),\n",
       " PathsIdDTO(requested_carriers=['DHL Express', 'DHL', 'UPS', 'FedEx'], valid_carriers=['UPS'], source=18, destination=5, paths=[ProbPathIdDTO(prob=0.0, carrier='UPS', path=[18, 49, 34, 0, 33, 55, 5]), ProbPathIdDTO(prob=0.42105263157894735, carrier='UPS', path=[18, 49, 34, 54, 37, 5]), ProbPathIdDTO(prob=0.0, carrier='UPS', path=[18, 50, 49, 34, 0, 33, 55, 5]), ProbPathIdDTO(prob=0.5789473684210527, carrier='UPS', path=[18, 50, 49, 34, 54, 37, 5])]),\n",
       " PathsIdDTO(requested_carriers=['DHL Express', 'DHL', 'UPS', 'FedEx'], valid_carriers=['DHL Express'], source=19, destination=5, paths=[ProbPathIdDTO(prob=0.0, carrier='DHL Express', path=[19, 30, 0, 33, 55, 5]), ProbPathIdDTO(prob=0.0, carrier='DHL Express', path=[19, 30, 3, 4, 2, 57, 5]), ProbPathIdDTO(prob=0.5, carrier='DHL Express', path=[19, 30, 8, 0, 33, 55, 5]), ProbPathIdDTO(prob=0.0, carrier='DHL Express', path=[19, 30, 8, 22, 33, 55, 5]), ProbPathIdDTO(prob=0.0, carrier='DHL Express', path=[19, 30, 34, 0, 33, 55, 5]), ProbPathIdDTO(prob=0.0, carrier='DHL Express', path=[19, 30, 34, 54, 37, 5]), ProbPathIdDTO(prob=0.0, carrier='DHL Express', path=[19, 30, 56, 0, 33, 55, 5]), ProbPathIdDTO(prob=0.5, carrier='DHL Express', path=[19, 30, 61, 0, 33, 55, 5])]),\n",
       " PathsIdDTO(requested_carriers=['DHL Express', 'DHL', 'UPS', 'FedEx'], valid_carriers=['DHL'], source=20, destination=5, paths=[ProbPathIdDTO(prob=0.0, carrier='DHL', path=[20, 38, 27, 0, 33, 55, 5]), ProbPathIdDTO(prob=0.16666666666666666, carrier='DHL', path=[20, 38, 30, 0, 33, 55, 5]), ProbPathIdDTO(prob=0.0, carrier='DHL', path=[20, 38, 30, 3, 4, 2, 57, 5]), ProbPathIdDTO(prob=0.3333333333333333, carrier='DHL', path=[20, 38, 30, 8, 0, 33, 55, 5]), ProbPathIdDTO(prob=0.16666666666666666, carrier='DHL', path=[20, 38, 30, 8, 22, 33, 55, 5]), ProbPathIdDTO(prob=0.16666666666666666, carrier='DHL', path=[20, 38, 30, 34, 0, 33, 55, 5]), ProbPathIdDTO(prob=0.0, carrier='DHL', path=[20, 38, 30, 34, 54, 37, 5]), ProbPathIdDTO(prob=0.16666666666666666, carrier='DHL', path=[20, 38, 30, 56, 0, 33, 55, 5]), ProbPathIdDTO(prob=0.0, carrier='DHL', path=[20, 38, 30, 61, 0, 33, 55, 5])]),\n",
       " PathsIdDTO(requested_carriers=['DHL Express', 'DHL', 'UPS', 'FedEx'], valid_carriers=['DHL'], source=21, destination=5, paths=[ProbPathIdDTO(prob=1.0, carrier='DHL', path=[21, 0, 33, 55, 5])]),\n",
       " PathsIdDTO(requested_carriers=['DHL Express', 'DHL', 'UPS', 'FedEx'], valid_carriers=['DHL'], source=22, destination=5, paths=[ProbPathIdDTO(prob=1.0, carrier='DHL', path=[22, 33, 55, 5])]),\n",
       " PathsIdDTO(requested_carriers=['DHL Express', 'DHL', 'UPS', 'FedEx'], valid_carriers=['DHL'], source=23, destination=5, paths=[ProbPathIdDTO(prob=0.0, carrier='DHL', path=[23, 38, 27, 0, 33, 55, 5]), ProbPathIdDTO(prob=0.16666666666666666, carrier='DHL', path=[23, 38, 30, 0, 33, 55, 5]), ProbPathIdDTO(prob=0.0, carrier='DHL', path=[23, 38, 30, 3, 4, 2, 57, 5]), ProbPathIdDTO(prob=0.3333333333333333, carrier='DHL', path=[23, 38, 30, 8, 0, 33, 55, 5]), ProbPathIdDTO(prob=0.16666666666666666, carrier='DHL', path=[23, 38, 30, 8, 22, 33, 55, 5]), ProbPathIdDTO(prob=0.16666666666666666, carrier='DHL', path=[23, 38, 30, 34, 0, 33, 55, 5]), ProbPathIdDTO(prob=0.0, carrier='DHL', path=[23, 38, 30, 34, 54, 37, 5]), ProbPathIdDTO(prob=0.16666666666666666, carrier='DHL', path=[23, 38, 30, 56, 0, 33, 55, 5]), ProbPathIdDTO(prob=0.0, carrier='DHL', path=[23, 38, 30, 61, 0, 33, 55, 5])]),\n",
       " PathsIdDTO(requested_carriers=['DHL Express', 'DHL', 'UPS', 'FedEx'], valid_carriers=['DHL'], source=24, destination=5, paths=[ProbPathIdDTO(prob=1.0, carrier='DHL', path=[24, 0, 33, 55, 5])]),\n",
       " PathsIdDTO(requested_carriers=['DHL Express', 'DHL', 'UPS', 'FedEx'], valid_carriers=['FedEx'], source=25, destination=5, paths=[ProbPathIdDTO(prob=0.5, carrier='FedEx', path=[25, 7, 47, 3, 4, 2, 57, 5]), ProbPathIdDTO(prob=0.5, carrier='FedEx', path=[25, 7, 47, 43, 9, 4, 2, 57, 5])]),\n",
       " PathsIdDTO(requested_carriers=['DHL Express', 'DHL', 'UPS', 'FedEx'], valid_carriers=['FedEx', 'DHL Express'], source=26, destination=5, paths=[ProbPathIdDTO(prob=0.0, carrier='FedEx', path=[26, 38, 27, 0, 33, 55, 5]), ProbPathIdDTO(prob=0.0, carrier='FedEx', path=[26, 38, 30, 0, 33, 55, 5]), ProbPathIdDTO(prob=0.0, carrier='FedEx', path=[26, 38, 30, 3, 4, 2, 57, 5]), ProbPathIdDTO(prob=0.0, carrier='FedEx', path=[26, 38, 30, 8, 0, 33, 55, 5]), ProbPathIdDTO(prob=0.0, carrier='FedEx', path=[26, 38, 30, 8, 22, 33, 55, 5]), ProbPathIdDTO(prob=0.0, carrier='FedEx', path=[26, 38, 30, 34, 0, 33, 55, 5]), ProbPathIdDTO(prob=0.0, carrier='FedEx', path=[26, 38, 30, 34, 54, 37, 5]), ProbPathIdDTO(prob=0.0, carrier='FedEx', path=[26, 38, 30, 56, 0, 33, 55, 5]), ProbPathIdDTO(prob=0.0, carrier='FedEx', path=[26, 38, 30, 61, 0, 33, 55, 5]), ProbPathIdDTO(prob=0.25, carrier='FedEx', path=[26, 47, 3, 4, 2, 57, 5]), ProbPathIdDTO(prob=0.25, carrier='FedEx', path=[26, 47, 43, 9, 4, 2, 57, 5]), ProbPathIdDTO(prob=0.25, carrier='DHL Express', path=[26, 38, 27, 0, 33, 55, 5]), ProbPathIdDTO(prob=0.0, carrier='DHL Express', path=[26, 38, 30, 0, 33, 55, 5]), ProbPathIdDTO(prob=0.0, carrier='DHL Express', path=[26, 38, 30, 3, 4, 2, 57, 5]), ProbPathIdDTO(prob=0.125, carrier='DHL Express', path=[26, 38, 30, 8, 0, 33, 55, 5]), ProbPathIdDTO(prob=0.0, carrier='DHL Express', path=[26, 38, 30, 8, 22, 33, 55, 5]), ProbPathIdDTO(prob=0.0, carrier='DHL Express', path=[26, 38, 30, 34, 0, 33, 55, 5]), ProbPathIdDTO(prob=0.0, carrier='DHL Express', path=[26, 38, 30, 34, 54, 37, 5]), ProbPathIdDTO(prob=0.0, carrier='DHL Express', path=[26, 38, 30, 56, 0, 33, 55, 5]), ProbPathIdDTO(prob=0.125, carrier='DHL Express', path=[26, 38, 30, 61, 0, 33, 55, 5]), ProbPathIdDTO(prob=0.0, carrier='DHL Express', path=[26, 47, 3, 4, 2, 57, 5]), ProbPathIdDTO(prob=0.0, carrier='DHL Express', path=[26, 47, 43, 9, 4, 2, 57, 5])]),\n",
       " PathsIdDTO(requested_carriers=['DHL Express', 'DHL', 'UPS', 'FedEx'], valid_carriers=['DHL Express'], source=27, destination=5, paths=[ProbPathIdDTO(prob=1.0, carrier='DHL Express', path=[27, 0, 33, 55, 5])]),\n",
       " PathsIdDTO(requested_carriers=['DHL Express', 'DHL', 'UPS', 'FedEx'], valid_carriers=['DHL'], source=28, destination=5, paths=[ProbPathIdDTO(prob=1.0, carrier='DHL', path=[28, 21, 0, 33, 55, 5])]),\n",
       " PathsIdDTO(requested_carriers=['DHL Express', 'DHL', 'UPS', 'FedEx'], valid_carriers=['DHL'], source=29, destination=5, paths=[ProbPathIdDTO(prob=0.16666666666666666, carrier='DHL', path=[29, 30, 0, 33, 55, 5]), ProbPathIdDTO(prob=0.0, carrier='DHL', path=[29, 30, 3, 4, 2, 57, 5]), ProbPathIdDTO(prob=0.3333333333333333, carrier='DHL', path=[29, 30, 8, 0, 33, 55, 5]), ProbPathIdDTO(prob=0.16666666666666666, carrier='DHL', path=[29, 30, 8, 22, 33, 55, 5]), ProbPathIdDTO(prob=0.16666666666666666, carrier='DHL', path=[29, 30, 34, 0, 33, 55, 5]), ProbPathIdDTO(prob=0.0, carrier='DHL', path=[29, 30, 34, 54, 37, 5]), ProbPathIdDTO(prob=0.16666666666666666, carrier='DHL', path=[29, 30, 56, 0, 33, 55, 5]), ProbPathIdDTO(prob=0.0, carrier='DHL', path=[29, 30, 61, 0, 33, 55, 5])]),\n",
       " PathsIdDTO(requested_carriers=['DHL Express', 'DHL', 'UPS', 'FedEx'], valid_carriers=['DHL', 'FedEx', 'DHL Express'], source=30, destination=5, paths=[ProbPathIdDTO(prob=0.1111111111111111, carrier='DHL', path=[30, 0, 33, 55, 5]), ProbPathIdDTO(prob=0.0, carrier='DHL', path=[30, 3, 4, 2, 57, 5]), ProbPathIdDTO(prob=0.2222222222222222, carrier='DHL', path=[30, 8, 0, 33, 55, 5]), ProbPathIdDTO(prob=0.1111111111111111, carrier='DHL', path=[30, 8, 22, 33, 55, 5]), ProbPathIdDTO(prob=0.1111111111111111, carrier='DHL', path=[30, 34, 0, 33, 55, 5]), ProbPathIdDTO(prob=0.0, carrier='DHL', path=[30, 34, 54, 37, 5]), ProbPathIdDTO(prob=0.1111111111111111, carrier='DHL', path=[30, 56, 0, 33, 55, 5]), ProbPathIdDTO(prob=0.0, carrier='DHL', path=[30, 61, 0, 33, 55, 5]), ProbPathIdDTO(prob=0.0, carrier='FedEx', path=[30, 0, 33, 55, 5]), ProbPathIdDTO(prob=0.1111111111111111, carrier='FedEx', path=[30, 3, 4, 2, 57, 5]), ProbPathIdDTO(prob=0.0, carrier='FedEx', path=[30, 8, 0, 33, 55, 5]), ProbPathIdDTO(prob=0.0, carrier='FedEx', path=[30, 8, 22, 33, 55, 5]), ProbPathIdDTO(prob=0.0, carrier='FedEx', path=[30, 34, 0, 33, 55, 5]), ProbPathIdDTO(prob=0.0, carrier='FedEx', path=[30, 34, 54, 37, 5]), ProbPathIdDTO(prob=0.0, carrier='FedEx', path=[30, 56, 0, 33, 55, 5]), ProbPathIdDTO(prob=0.0, carrier='FedEx', path=[30, 61, 0, 33, 55, 5]), ProbPathIdDTO(prob=0.0, carrier='DHL Express', path=[30, 0, 33, 55, 5]), ProbPathIdDTO(prob=0.0, carrier='DHL Express', path=[30, 3, 4, 2, 57, 5]), ProbPathIdDTO(prob=0.1111111111111111, carrier='DHL Express', path=[30, 8, 0, 33, 55, 5]), ProbPathIdDTO(prob=0.0, carrier='DHL Express', path=[30, 8, 22, 33, 55, 5]), ProbPathIdDTO(prob=0.0, carrier='DHL Express', path=[30, 34, 0, 33, 55, 5]), ProbPathIdDTO(prob=0.0, carrier='DHL Express', path=[30, 34, 54, 37, 5]), ProbPathIdDTO(prob=0.0, carrier='DHL Express', path=[30, 56, 0, 33, 55, 5]), ProbPathIdDTO(prob=0.1111111111111111, carrier='DHL Express', path=[30, 61, 0, 33, 55, 5])]),\n",
       " PathsIdDTO(requested_carriers=['DHL Express', 'DHL', 'UPS', 'FedEx'], valid_carriers=['UPS'], source=31, destination=5, paths=[ProbPathIdDTO(prob=0.0, carrier='UPS', path=[31, 6, 42, 34, 0, 33, 55, 5]), ProbPathIdDTO(prob=0.8, carrier='UPS', path=[31, 6, 42, 34, 54, 37, 5]), ProbPathIdDTO(prob=0.0, carrier='UPS', path=[31, 42, 34, 0, 33, 55, 5]), ProbPathIdDTO(prob=0.2, carrier='UPS', path=[31, 42, 34, 54, 37, 5])]),\n",
       " PathsIdDTO(requested_carriers=['DHL Express', 'DHL', 'UPS', 'FedEx'], valid_carriers=['FedEx'], source=32, destination=5, paths=[ProbPathIdDTO(prob=0.0, carrier='FedEx', path=[32, 45, 30, 0, 33, 55, 5]), ProbPathIdDTO(prob=1.0, carrier='FedEx', path=[32, 45, 30, 3, 4, 2, 57, 5]), ProbPathIdDTO(prob=0.0, carrier='FedEx', path=[32, 45, 30, 8, 0, 33, 55, 5]), ProbPathIdDTO(prob=0.0, carrier='FedEx', path=[32, 45, 30, 8, 22, 33, 55, 5]), ProbPathIdDTO(prob=0.0, carrier='FedEx', path=[32, 45, 30, 34, 0, 33, 55, 5]), ProbPathIdDTO(prob=0.0, carrier='FedEx', path=[32, 45, 30, 34, 54, 37, 5]), ProbPathIdDTO(prob=0.0, carrier='FedEx', path=[32, 45, 30, 56, 0, 33, 55, 5]), ProbPathIdDTO(prob=0.0, carrier='FedEx', path=[32, 45, 30, 61, 0, 33, 55, 5])]),\n",
       " PathsIdDTO(requested_carriers=['DHL Express', 'DHL', 'UPS', 'FedEx'], valid_carriers=['DHL', 'DHL Express'], source=33, destination=5, paths=[ProbPathIdDTO(prob=0.75, carrier='DHL', path=[33, 55, 5]), ProbPathIdDTO(prob=0.25, carrier='DHL Express', path=[33, 55, 5])]),\n",
       " PathsIdDTO(requested_carriers=['DHL Express', 'DHL', 'UPS', 'FedEx'], valid_carriers=['UPS', 'DHL'], source=34, destination=5, paths=[ProbPathIdDTO(prob=0.0, carrier='UPS', path=[34, 0, 33, 55, 5]), ProbPathIdDTO(prob=0.9857142857142858, carrier='UPS', path=[34, 54, 37, 5]), ProbPathIdDTO(prob=0.014285714285714285, carrier='DHL', path=[34, 0, 33, 55, 5]), ProbPathIdDTO(prob=0.0, carrier='DHL', path=[34, 54, 37, 5])]),\n",
       " PathsIdDTO(requested_carriers=['DHL Express', 'DHL', 'UPS', 'FedEx'], valid_carriers=['FedEx'], source=35, destination=5, paths=[ProbPathIdDTO(prob=1.0, carrier='FedEx', path=[35, 2, 57, 5])]),\n",
       " PathsIdDTO(requested_carriers=['DHL Express', 'DHL', 'UPS', 'FedEx'], valid_carriers=['DHL'], source=36, destination=5, paths=[ProbPathIdDTO(prob=1.0, carrier='DHL', path=[36, 0, 33, 55, 5])]),\n",
       " PathsIdDTO(requested_carriers=['DHL Express', 'DHL', 'UPS', 'FedEx'], valid_carriers=['UPS'], source=37, destination=5, paths=[ProbPathIdDTO(prob=1.0, carrier='UPS', path=[37, 5])]),\n",
       " PathsIdDTO(requested_carriers=['DHL Express', 'DHL', 'UPS', 'FedEx'], valid_carriers=['DHL', 'DHL Express'], source=38, destination=5, paths=[ProbPathIdDTO(prob=0.0, carrier='DHL', path=[38, 27, 0, 33, 55, 5]), ProbPathIdDTO(prob=0.11904761904761904, carrier='DHL', path=[38, 30, 0, 33, 55, 5]), ProbPathIdDTO(prob=0.0, carrier='DHL', path=[38, 30, 3, 4, 2, 57, 5]), ProbPathIdDTO(prob=0.23809523809523808, carrier='DHL', path=[38, 30, 8, 0, 33, 55, 5]), ProbPathIdDTO(prob=0.11904761904761904, carrier='DHL', path=[38, 30, 8, 22, 33, 55, 5]), ProbPathIdDTO(prob=0.11904761904761904, carrier='DHL', path=[38, 30, 34, 0, 33, 55, 5]), ProbPathIdDTO(prob=0.0, carrier='DHL', path=[38, 30, 34, 54, 37, 5]), ProbPathIdDTO(prob=0.11904761904761904, carrier='DHL', path=[38, 30, 56, 0, 33, 55, 5]), ProbPathIdDTO(prob=0.0, carrier='DHL', path=[38, 30, 61, 0, 33, 55, 5]), ProbPathIdDTO(prob=0.14285714285714285, carrier='DHL Express', path=[38, 27, 0, 33, 55, 5]), ProbPathIdDTO(prob=0.0, carrier='DHL Express', path=[38, 30, 0, 33, 55, 5]), ProbPathIdDTO(prob=0.0, carrier='DHL Express', path=[38, 30, 3, 4, 2, 57, 5]), ProbPathIdDTO(prob=0.07142857142857142, carrier='DHL Express', path=[38, 30, 8, 0, 33, 55, 5]), ProbPathIdDTO(prob=0.0, carrier='DHL Express', path=[38, 30, 8, 22, 33, 55, 5]), ProbPathIdDTO(prob=0.0, carrier='DHL Express', path=[38, 30, 34, 0, 33, 55, 5]), ProbPathIdDTO(prob=0.0, carrier='DHL Express', path=[38, 30, 34, 54, 37, 5]), ProbPathIdDTO(prob=0.0, carrier='DHL Express', path=[38, 30, 56, 0, 33, 55, 5]), ProbPathIdDTO(prob=0.07142857142857142, carrier='DHL Express', path=[38, 30, 61, 0, 33, 55, 5])]),\n",
       " PathsIdDTO(requested_carriers=['DHL Express', 'DHL', 'UPS', 'FedEx'], valid_carriers=['FedEx', 'DHL Express'], source=39, destination=5, paths=[ProbPathIdDTO(prob=0.0, carrier='FedEx', path=[39, 26, 38, 27, 0, 33, 55, 5]), ProbPathIdDTO(prob=0.0, carrier='FedEx', path=[39, 26, 38, 30, 0, 33, 55, 5]), ProbPathIdDTO(prob=0.0, carrier='FedEx', path=[39, 26, 38, 30, 3, 4, 2, 57, 5]), ProbPathIdDTO(prob=0.0, carrier='FedEx', path=[39, 26, 38, 30, 8, 0, 33, 55, 5]), ProbPathIdDTO(prob=0.0, carrier='FedEx', path=[39, 26, 38, 30, 8, 22, 33, 55, 5]), ProbPathIdDTO(prob=0.0, carrier='FedEx', path=[39, 26, 38, 30, 34, 0, 33, 55, 5]), ProbPathIdDTO(prob=0.0, carrier='FedEx', path=[39, 26, 38, 30, 34, 54, 37, 5]), ProbPathIdDTO(prob=0.0, carrier='FedEx', path=[39, 26, 38, 30, 56, 0, 33, 55, 5]), ProbPathIdDTO(prob=0.0, carrier='FedEx', path=[39, 26, 38, 30, 61, 0, 33, 55, 5]), ProbPathIdDTO(prob=0.25, carrier='FedEx', path=[39, 26, 47, 3, 4, 2, 57, 5]), ProbPathIdDTO(prob=0.25, carrier='FedEx', path=[39, 26, 47, 43, 9, 4, 2, 57, 5]), ProbPathIdDTO(prob=0.25, carrier='DHL Express', path=[39, 26, 38, 27, 0, 33, 55, 5]), ProbPathIdDTO(prob=0.0, carrier='DHL Express', path=[39, 26, 38, 30, 0, 33, 55, 5]), ProbPathIdDTO(prob=0.0, carrier='DHL Express', path=[39, 26, 38, 30, 3, 4, 2, 57, 5]), ProbPathIdDTO(prob=0.125, carrier='DHL Express', path=[39, 26, 38, 30, 8, 0, 33, 55, 5]), ProbPathIdDTO(prob=0.0, carrier='DHL Express', path=[39, 26, 38, 30, 8, 22, 33, 55, 5]), ProbPathIdDTO(prob=0.0, carrier='DHL Express', path=[39, 26, 38, 30, 34, 0, 33, 55, 5]), ProbPathIdDTO(prob=0.0, carrier='DHL Express', path=[39, 26, 38, 30, 34, 54, 37, 5]), ProbPathIdDTO(prob=0.0, carrier='DHL Express', path=[39, 26, 38, 30, 56, 0, 33, 55, 5]), ProbPathIdDTO(prob=0.125, carrier='DHL Express', path=[39, 26, 38, 30, 61, 0, 33, 55, 5]), ProbPathIdDTO(prob=0.0, carrier='DHL Express', path=[39, 26, 47, 3, 4, 2, 57, 5]), ProbPathIdDTO(prob=0.0, carrier='DHL Express', path=[39, 26, 47, 43, 9, 4, 2, 57, 5])]),\n",
       " PathsIdDTO(requested_carriers=['DHL Express', 'DHL', 'UPS', 'FedEx'], valid_carriers=['FedEx'], source=40, destination=5, paths=[ProbPathIdDTO(prob=1.0, carrier='FedEx', path=[40, 48, 4, 2, 57, 5]), ProbPathIdDTO(prob=0.0, carrier='FedEx', path=[40, 48, 63, 0, 33, 55, 5])]),\n",
       " PathsIdDTO(requested_carriers=['DHL Express', 'DHL', 'UPS', 'FedEx'], valid_carriers=['DHL Express'], source=41, destination=5, paths=[ProbPathIdDTO(prob=1.0, carrier='DHL Express', path=[41, 53, 63, 0, 33, 55, 5])]),\n",
       " PathsIdDTO(requested_carriers=['DHL Express', 'DHL', 'UPS', 'FedEx'], valid_carriers=['UPS'], source=42, destination=5, paths=[ProbPathIdDTO(prob=0.0, carrier='UPS', path=[42, 34, 0, 33, 55, 5]), ProbPathIdDTO(prob=1.0, carrier='UPS', path=[42, 34, 54, 37, 5])]),\n",
       " PathsIdDTO(requested_carriers=['DHL Express', 'DHL', 'UPS', 'FedEx'], valid_carriers=['FedEx'], source=43, destination=5, paths=[ProbPathIdDTO(prob=1.0, carrier='FedEx', path=[43, 9, 4, 2, 57, 5])]),\n",
       " PathsIdDTO(requested_carriers=['DHL Express', 'DHL', 'UPS', 'FedEx'], valid_carriers=['FedEx'], source=44, destination=5, paths=[ProbPathIdDTO(prob=1.0, carrier='FedEx', path=[44, 52, 35, 2, 57, 5])]),\n",
       " PathsIdDTO(requested_carriers=['DHL Express', 'DHL', 'UPS', 'FedEx'], valid_carriers=['FedEx'], source=45, destination=5, paths=[ProbPathIdDTO(prob=0.0, carrier='FedEx', path=[45, 30, 0, 33, 55, 5]), ProbPathIdDTO(prob=1.0, carrier='FedEx', path=[45, 30, 3, 4, 2, 57, 5]), ProbPathIdDTO(prob=0.0, carrier='FedEx', path=[45, 30, 8, 0, 33, 55, 5]), ProbPathIdDTO(prob=0.0, carrier='FedEx', path=[45, 30, 8, 22, 33, 55, 5]), ProbPathIdDTO(prob=0.0, carrier='FedEx', path=[45, 30, 34, 0, 33, 55, 5]), ProbPathIdDTO(prob=0.0, carrier='FedEx', path=[45, 30, 34, 54, 37, 5]), ProbPathIdDTO(prob=0.0, carrier='FedEx', path=[45, 30, 56, 0, 33, 55, 5]), ProbPathIdDTO(prob=0.0, carrier='FedEx', path=[45, 30, 61, 0, 33, 55, 5])]),\n",
       " PathsIdDTO(requested_carriers=['DHL Express', 'DHL', 'UPS', 'FedEx'], valid_carriers=['FedEx'], source=46, destination=5, paths=[ProbPathIdDTO(prob=0.4000000000000001, carrier='FedEx', path=[46, 10, 11, 48, 4, 2, 57, 5]), ProbPathIdDTO(prob=0.0, carrier='FedEx', path=[46, 10, 11, 48, 63, 0, 33, 55, 5]), ProbPathIdDTO(prob=0.6, carrier='FedEx', path=[46, 10, 48, 4, 2, 57, 5]), ProbPathIdDTO(prob=0.0, carrier='FedEx', path=[46, 10, 48, 63, 0, 33, 55, 5])]),\n",
       " PathsIdDTO(requested_carriers=['DHL Express', 'DHL', 'UPS', 'FedEx'], valid_carriers=['FedEx'], source=47, destination=5, paths=[ProbPathIdDTO(prob=0.5, carrier='FedEx', path=[47, 3, 4, 2, 57, 5]), ProbPathIdDTO(prob=0.5, carrier='FedEx', path=[47, 43, 9, 4, 2, 57, 5])]),\n",
       " PathsIdDTO(requested_carriers=['DHL Express', 'DHL', 'UPS', 'FedEx'], valid_carriers=['DHL', 'FedEx'], source=48, destination=5, paths=[ProbPathIdDTO(prob=0.0, carrier='DHL', path=[48, 4, 2, 57, 5]), ProbPathIdDTO(prob=0.125, carrier='DHL', path=[48, 63, 0, 33, 55, 5]), ProbPathIdDTO(prob=0.875, carrier='FedEx', path=[48, 4, 2, 57, 5]), ProbPathIdDTO(prob=0.0, carrier='FedEx', path=[48, 63, 0, 33, 55, 5])]),\n",
       " PathsIdDTO(requested_carriers=['DHL Express', 'DHL', 'UPS', 'FedEx'], valid_carriers=['UPS'], source=49, destination=5, paths=[ProbPathIdDTO(prob=0.0, carrier='UPS', path=[49, 34, 0, 33, 55, 5]), ProbPathIdDTO(prob=1.0, carrier='UPS', path=[49, 34, 54, 37, 5])]),\n",
       " PathsIdDTO(requested_carriers=['DHL Express', 'DHL', 'UPS', 'FedEx'], valid_carriers=['UPS'], source=50, destination=5, paths=[ProbPathIdDTO(prob=0.0, carrier='UPS', path=[50, 49, 34, 0, 33, 55, 5]), ProbPathIdDTO(prob=1.0, carrier='UPS', path=[50, 49, 34, 54, 37, 5])]),\n",
       " PathsIdDTO(requested_carriers=['DHL Express', 'DHL', 'UPS', 'FedEx'], valid_carriers=['FedEx'], source=51, destination=5, paths=[ProbPathIdDTO(prob=1.0, carrier='FedEx', path=[51, 40, 48, 4, 2, 57, 5]), ProbPathIdDTO(prob=0.0, carrier='FedEx', path=[51, 40, 48, 63, 0, 33, 55, 5])]),\n",
       " PathsIdDTO(requested_carriers=['DHL Express', 'DHL', 'UPS', 'FedEx'], valid_carriers=['FedEx'], source=52, destination=5, paths=[ProbPathIdDTO(prob=1.0, carrier='FedEx', path=[52, 35, 2, 57, 5])]),\n",
       " PathsIdDTO(requested_carriers=['DHL Express', 'DHL', 'UPS', 'FedEx'], valid_carriers=['DHL Express'], source=53, destination=5, paths=[ProbPathIdDTO(prob=1.0, carrier='DHL Express', path=[53, 63, 0, 33, 55, 5])]),\n",
       " PathsIdDTO(requested_carriers=['DHL Express', 'DHL', 'UPS', 'FedEx'], valid_carriers=['UPS'], source=54, destination=5, paths=[ProbPathIdDTO(prob=1.0, carrier='UPS', path=[54, 37, 5])]),\n",
       " PathsIdDTO(requested_carriers=['DHL Express', 'DHL', 'UPS', 'FedEx'], valid_carriers=['DHL', 'DHL Express'], source=55, destination=5, paths=[ProbPathIdDTO(prob=0.75, carrier='DHL', path=[55, 5]), ProbPathIdDTO(prob=0.25, carrier='DHL Express', path=[55, 5])]),\n",
       " PathsIdDTO(requested_carriers=['DHL Express', 'DHL', 'UPS', 'FedEx'], valid_carriers=['DHL'], source=56, destination=5, paths=[ProbPathIdDTO(prob=1.0, carrier='DHL', path=[56, 0, 33, 55, 5])]),\n",
       " PathsIdDTO(requested_carriers=['DHL Express', 'DHL', 'UPS', 'FedEx'], valid_carriers=['FedEx'], source=57, destination=5, paths=[ProbPathIdDTO(prob=1.0, carrier='FedEx', path=[57, 5])]),\n",
       " PathsIdDTO(requested_carriers=['DHL Express', 'DHL', 'UPS', 'FedEx'], valid_carriers=['FedEx'], source=58, destination=5, paths=[ProbPathIdDTO(prob=1.0, carrier='FedEx', path=[58, 4, 2, 57, 5])]),\n",
       " PathsIdDTO(requested_carriers=['DHL Express', 'DHL', 'UPS', 'FedEx'], valid_carriers=['FedEx'], source=59, destination=5, paths=[ProbPathIdDTO(prob=0.3333333333333333, carrier='FedEx', path=[59, 48, 4, 2, 57, 5]), ProbPathIdDTO(prob=0.0, carrier='FedEx', path=[59, 48, 63, 0, 33, 55, 5]), ProbPathIdDTO(prob=0.6666666666666666, carrier='FedEx', path=[59, 58, 4, 2, 57, 5])]),\n",
       " PathsIdDTO(requested_carriers=['DHL Express', 'DHL', 'UPS', 'FedEx'], valid_carriers=['DHL'], source=60, destination=5, paths=[ProbPathIdDTO(prob=0.0, carrier='DHL', path=[60, 38, 27, 0, 33, 55, 5]), ProbPathIdDTO(prob=0.16666666666666666, carrier='DHL', path=[60, 38, 30, 0, 33, 55, 5]), ProbPathIdDTO(prob=0.0, carrier='DHL', path=[60, 38, 30, 3, 4, 2, 57, 5]), ProbPathIdDTO(prob=0.3333333333333333, carrier='DHL', path=[60, 38, 30, 8, 0, 33, 55, 5]), ProbPathIdDTO(prob=0.16666666666666666, carrier='DHL', path=[60, 38, 30, 8, 22, 33, 55, 5]), ProbPathIdDTO(prob=0.16666666666666666, carrier='DHL', path=[60, 38, 30, 34, 0, 33, 55, 5]), ProbPathIdDTO(prob=0.0, carrier='DHL', path=[60, 38, 30, 34, 54, 37, 5]), ProbPathIdDTO(prob=0.16666666666666666, carrier='DHL', path=[60, 38, 30, 56, 0, 33, 55, 5]), ProbPathIdDTO(prob=0.0, carrier='DHL', path=[60, 38, 30, 61, 0, 33, 55, 5])]),\n",
       " PathsIdDTO(requested_carriers=['DHL Express', 'DHL', 'UPS', 'FedEx'], valid_carriers=['DHL Express'], source=61, destination=5, paths=[ProbPathIdDTO(prob=1.0, carrier='DHL Express', path=[61, 0, 33, 55, 5])]),\n",
       " PathsIdDTO(requested_carriers=['DHL Express', 'DHL', 'UPS', 'FedEx'], valid_carriers=['DHL'], source=62, destination=5, paths=[ProbPathIdDTO(prob=0.0, carrier='DHL', path=[62, 48, 4, 2, 57, 5]), ProbPathIdDTO(prob=1.0, carrier='DHL', path=[62, 48, 63, 0, 33, 55, 5])]),\n",
       " PathsIdDTO(requested_carriers=['DHL Express', 'DHL', 'UPS', 'FedEx'], valid_carriers=['DHL', 'DHL Express'], source=63, destination=5, paths=[ProbPathIdDTO(prob=0.5, carrier='DHL', path=[63, 0, 33, 55, 5]), ProbPathIdDTO(prob=0.5, carrier='DHL Express', path=[63, 0, 33, 55, 5])]),\n",
       " PathsIdDTO(requested_carriers=['DHL Express', 'DHL', 'UPS', 'FedEx'], valid_carriers=['DHL'], source=64, destination=5, paths=[ProbPathIdDTO(prob=0.16666666666666666, carrier='DHL', path=[64, 29, 30, 0, 33, 55, 5]), ProbPathIdDTO(prob=0.0, carrier='DHL', path=[64, 29, 30, 3, 4, 2, 57, 5]), ProbPathIdDTO(prob=0.3333333333333333, carrier='DHL', path=[64, 29, 30, 8, 0, 33, 55, 5]), ProbPathIdDTO(prob=0.16666666666666666, carrier='DHL', path=[64, 29, 30, 8, 22, 33, 55, 5]), ProbPathIdDTO(prob=0.16666666666666666, carrier='DHL', path=[64, 29, 30, 34, 0, 33, 55, 5]), ProbPathIdDTO(prob=0.0, carrier='DHL', path=[64, 29, 30, 34, 54, 37, 5]), ProbPathIdDTO(prob=0.16666666666666666, carrier='DHL', path=[64, 29, 30, 56, 0, 33, 55, 5]), ProbPathIdDTO(prob=0.0, carrier='DHL', path=[64, 29, 30, 61, 0, 33, 55, 5])])]"
      ]
     },
     "execution_count": 54,
     "metadata": {},
     "output_type": "execute_result"
    }
   ],
   "source": [
    "paths_data"
   ]
  },
  {
   "cell_type": "code",
   "execution_count": 108,
   "id": "fa833098",
   "metadata": {},
   "outputs": [
    {
     "name": "stdout",
     "output_type": "stream",
     "text": [
      "Total paths lengths: 270\n",
      "Average path length: 5.7555555555555555\n",
      "Standard deviation of path lengths: 1.5680450988727221\n",
      "Minimum path length: 0\n",
      "Maximum path length: 9\n"
     ]
    }
   ],
   "source": [
    "paths_lenghts_data = []\n",
    "for path_id in paths_data:\n",
    "    for prob_path in path_id.paths:\n",
    "        paths_lenghts_data.append(len(prob_path.path) - 1)\n",
    "\n",
    "paths_lenghts = np.array(paths_lenghts_data)\n",
    "print(f\"Total paths lengths: {len(paths_lenghts)}\")\n",
    "print(f\"Average path length: {np.mean(paths_lenghts)}\")\n",
    "print(f\"Standard deviation of path lengths: {np.std(paths_lenghts)}\")\n",
    "print(f\"Minimum path length: {np.min(paths_lenghts)}\")\n",
    "print(f\"Maximum path length: {np.max(paths_lenghts)}\")"
   ]
  },
  {
   "cell_type": "code",
   "execution_count": 88,
   "id": "02c6f0c5",
   "metadata": {},
   "outputs": [
    {
     "data": {
      "text/plain": [
       "11"
      ]
     },
     "execution_count": 88,
     "metadata": {},
     "output_type": "execute_result"
    }
   ],
   "source": [
    "index = 0\n",
    "max_length = 0\n",
    "for i, path_id in enumerate(paths_data):\n",
    "    for j, prob_path in enumerate(path_id.paths):\n",
    "        if len(prob_path.path) > max_length:\n",
    "            index = i\n",
    "            max_length = len(prob_path.path)\n",
    "\n",
    "index"
   ]
  },
  {
   "cell_type": "code",
   "execution_count": 107,
   "id": "0419db78",
   "metadata": {},
   "outputs": [
    {
     "data": {
      "text/plain": [
       "['4',\n",
       " 'GRAND PRAIRIE, TEXAS, US',\n",
       " 'MANSFIELD, TEXAS, US',\n",
       " 'FORT WORTH, TEXAS, US',\n",
       " 'NEW YORK, NEW YORK, US',\n",
       " 'CINCINNATI, OHIO, US',\n",
       " 'LEIPZIG, SAXONY, DE',\n",
       " 'BRESCIA, LOMBARDY, IT',\n",
       " 'BERGAMO, LOMBARDY, IT',\n",
       " 'FAE']"
      ]
     },
     "execution_count": 107,
     "metadata": {},
     "output_type": "execute_result"
    }
   ],
   "source": [
    "[g.vs[i]['name'] for i in paths_data[index].paths[5].path]"
   ]
  },
  {
   "cell_type": "code",
   "execution_count": 101,
   "id": "bce6f4a8",
   "metadata": {},
   "outputs": [
    {
     "data": {
      "text/plain": [
       "'4'"
      ]
     },
     "execution_count": 101,
     "metadata": {},
     "output_type": "execute_result"
    }
   ],
   "source": [
    "g.vs[12]['name']"
   ]
  },
  {
   "cell_type": "code",
   "execution_count": 59,
   "id": "796901ff",
   "metadata": {},
   "outputs": [
    {
     "data": {
      "text/plain": [
       "'1'"
      ]
     },
     "execution_count": 59,
     "metadata": {},
     "output_type": "execute_result"
    }
   ],
   "source": [
    "g.vs[np.argmax(paths_lenghts)][\"name\"]"
   ]
  },
  {
   "cell_type": "code",
   "execution_count": null,
   "id": "2fde06f0",
   "metadata": {},
   "outputs": [],
   "source": []
  },
  {
   "cell_type": "code",
   "execution_count": 19,
   "id": "18ebe7a7",
   "metadata": {},
   "outputs": [
    {
     "data": {
      "text/plain": [
       "2925"
      ]
     },
     "execution_count": 19,
     "metadata": {},
     "output_type": "execute_result"
    }
   ],
   "source": [
    "j = 0\n",
    "for i in range(1, sc_graph.graph.vcount()):\n",
    "    for carriers in all_combinations:\n",
    "        for by in [VertexIdentifier.ID, VertexIdentifier.NAME, VertexIdentifier.INDEX]:\n",
    "            \n",
    "            path_extraction_manager: PathExtractionManager = PathExtractionManager(g, maybe_manufacturer=manufacturer)\n",
    "            path_prob_manager: PathProbManager = PathProbManager(g, maybe_manufacturer=manufacturer)\n",
    "            sc_graph: SCGraph = SCGraph(g, path_extraction_manager, path_prob_manager, maybe_manufacturer=manufacturer)\n",
    "            \n",
    "            try:\n",
    "                paths = sc_graph.extract_paths(source=i, carriers=carriers, zero_prob_paths=True, by=by)\n",
    "            except Exception as e:\n",
    "                print(f\"Error extracting paths for source {i}: {e}\")\n",
    "                continue\n",
    "            j += 1\n",
    "\n",
    "j"
   ]
  },
  {
   "cell_type": "code",
   "execution_count": 20,
   "id": "26c19b2b",
   "metadata": {},
   "outputs": [
    {
     "name": "stdout",
     "output_type": "stream",
     "text": [
      "Path from CINCINNATI, OHIO, US to PARIS, ÎLE-DE-FRANCE, FR for carriers ['DHL']\n",
      "\tPath with probability 0.16666666666666666:\n",
      "\tCINCINNATI, OHIO, US -> 16 -> HO CHI MINH CITY, HO CHI MINH, VN -> "
     ]
    },
    {
     "ename": "IndexError",
     "evalue": "vertex index out of range",
     "output_type": "error",
     "traceback": [
      "\u001b[31m---------------------------------------------------------------------------\u001b[39m",
      "\u001b[31mIndexError\u001b[39m                                Traceback (most recent call last)",
      "\u001b[36mCell\u001b[39m\u001b[36m \u001b[39m\u001b[32mIn[20]\u001b[39m\u001b[32m, line 10\u001b[39m\n\u001b[32m      8\u001b[39m \u001b[38;5;28mprint\u001b[39m(\u001b[33mf\u001b[39m\u001b[33m\"\u001b[39m\u001b[38;5;130;01m\\t\u001b[39;00m\u001b[33m\"\u001b[39m, end=\u001b[33m\"\u001b[39m\u001b[33m\"\u001b[39m)\n\u001b[32m      9\u001b[39m \u001b[38;5;28;01mfor\u001b[39;00m i, v_id \u001b[38;5;129;01min\u001b[39;00m \u001b[38;5;28menumerate\u001b[39m(path_dto.path):\n\u001b[32m---> \u001b[39m\u001b[32m10\u001b[39m     v = \u001b[43mg\u001b[49m\u001b[43m.\u001b[49m\u001b[43mvs\u001b[49m\u001b[43m.\u001b[49m\u001b[43mselect\u001b[49m\u001b[43m(\u001b[49m\u001b[43mv_id\u001b[49m\u001b[43m=\u001b[49m\u001b[43mv_id\u001b[49m\u001b[43m)\u001b[49m\u001b[43m[\u001b[49m\u001b[32;43m0\u001b[39;49m\u001b[43m]\u001b[49m\n\u001b[32m     11\u001b[39m     \u001b[38;5;28mprint\u001b[39m(\u001b[33mf\u001b[39m\u001b[33m\"\u001b[39m\u001b[38;5;132;01m{\u001b[39;00mv[\u001b[33m'\u001b[39m\u001b[33mname\u001b[39m\u001b[33m'\u001b[39m]\u001b[38;5;132;01m}\u001b[39;00m\u001b[33m\"\u001b[39m, end=\u001b[33m\"\u001b[39m\u001b[33m -> \u001b[39m\u001b[33m\"\u001b[39m)\n\u001b[32m     12\u001b[39m \u001b[38;5;28mprint\u001b[39m()\n",
      "\u001b[31mIndexError\u001b[39m: vertex index out of range"
     ]
    }
   ],
   "source": [
    "source_v = g.vs.select(v_id=paths.source)[0]\n",
    "destination_v = g.vs.select(v_id=paths.destination)[0]\n",
    "print(f\"Path from {source_v['name']} to {destination_v['name']} for carriers {paths.valid_carriers}\")\n",
    "for path_dto in paths.paths:\n",
    "    source_v = g.vs.select(v_id=path_dto.path[0])[0]\n",
    "    destination_v = g.vs.select(v_id=path_dto.path[-1])[0]\n",
    "    print(f\"\\tPath with probability {path_dto.prob}:\")\n",
    "    print(f\"\\t\", end=\"\")\n",
    "    for i, v_id in enumerate(path_dto.path):\n",
    "        v = g.vs.select(v_id=v_id)[0]\n",
    "        print(f\"{v['name']}\", end=\" -> \")\n",
    "    print()"
   ]
  },
  {
   "cell_type": "code",
   "execution_count": null,
   "id": "cb5ddf0c",
   "metadata": {},
   "outputs": [],
   "source": [
    "v = g.vs.select(name = \"LEIPZIG, SAXONY, DE\")[0]\n",
    "v['n_orders_by_carrier']"
   ]
  },
  {
   "cell_type": "code",
   "execution_count": 21,
   "id": "551d7d50",
   "metadata": {},
   "outputs": [
    {
     "data": {
      "text/plain": [
       "True"
      ]
     },
     "execution_count": 21,
     "metadata": {},
     "output_type": "execute_result"
    }
   ],
   "source": [
    "g.is_dag()"
   ]
  },
  {
   "cell_type": "code",
   "execution_count": 22,
   "id": "a7cf7d37",
   "metadata": {},
   "outputs": [
    {
     "data": {
      "text/plain": [
       "[]"
      ]
     },
     "execution_count": 22,
     "metadata": {},
     "output_type": "execute_result"
    }
   ],
   "source": [
    "g.feedback_arc_set()"
   ]
  },
  {
   "cell_type": "code",
   "execution_count": 23,
   "id": "e691beec",
   "metadata": {},
   "outputs": [
    {
     "data": {
      "text/plain": [
       "[]"
      ]
     },
     "execution_count": 23,
     "metadata": {},
     "output_type": "execute_result"
    }
   ],
   "source": [
    "g.simple_cycles()"
   ]
  },
  {
   "cell_type": "code",
   "execution_count": null,
   "id": "41c113f9",
   "metadata": {},
   "outputs": [],
   "source": []
  }
 ],
 "metadata": {
  "kernelspec": {
   "display_name": ".venv (3.13.3)",
   "language": "python",
   "name": "python3"
  },
  "language_info": {
   "codemirror_mode": {
    "name": "ipython",
    "version": 3
   },
   "file_extension": ".py",
   "mimetype": "text/x-python",
   "name": "python",
   "nbconvert_exporter": "python",
   "pygments_lexer": "ipython3",
   "version": "3.13.3"
  }
 },
 "nbformat": 4,
 "nbformat_minor": 5
}
